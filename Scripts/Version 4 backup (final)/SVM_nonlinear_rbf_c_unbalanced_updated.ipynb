{
 "cells": [
  {
   "cell_type": "markdown",
   "metadata": {
    "id": "DKAEoPaYbmgQ"
   },
   "source": [
    "# **General Imports**"
   ]
  },
  {
   "cell_type": "code",
   "execution_count": 1,
   "metadata": {
    "colab": {
     "base_uri": "https://localhost:8080/"
    },
    "id": "SbsH7CP4cYf2",
    "outputId": "50d2f0cb-6930-4d64-9f96-670726e5d644"
   },
   "outputs": [
    {
     "name": "stdout",
     "output_type": "stream",
     "text": [
      "Requirement already satisfied: ucimlrepo in c:\\users\\admin\\anaconda3\\lib\\site-packages (0.0.6)\n"
     ]
    }
   ],
   "source": [
    "!pip install ucimlrepo"
   ]
  },
  {
   "cell_type": "code",
   "execution_count": 2,
   "metadata": {
    "id": "ThfCWS5nbhzK"
   },
   "outputs": [],
   "source": [
    "import numpy as np\n",
    "import pandas as pd\n",
    "import matplotlib.pyplot as plt\n",
    "from ucimlrepo import fetch_ucirepo\n",
    "from tqdm import tqdm"
   ]
  },
  {
   "cell_type": "code",
   "execution_count": 3,
   "metadata": {},
   "outputs": [
    {
     "name": "stderr",
     "output_type": "stream",
     "text": [
      "Intel(R) Extension for Scikit-learn* enabled (https://github.com/intel/scikit-learn-intelex)\n"
     ]
    }
   ],
   "source": [
    "from sklearnex import patch_sklearn\n",
    "\n",
    "patch_sklearn()"
   ]
  },
  {
   "cell_type": "markdown",
   "metadata": {
    "id": "udPOZwAab6m0"
   },
   "source": [
    "# **Data Preprocessing**"
   ]
  },
  {
   "cell_type": "markdown",
   "metadata": {
    "id": "N7fJ9C0ab-1-"
   },
   "source": [
    "## **Getting Data**"
   ]
  },
  {
   "cell_type": "code",
   "execution_count": 4,
   "metadata": {
    "id": "GL8enDhSb9l_"
   },
   "outputs": [
    {
     "name": "stdout",
     "output_type": "stream",
     "text": [
      "{'uci_id': 942, 'name': 'RT-IoT2022 ', 'repository_url': 'https://archive.ics.uci.edu/dataset/942/rt-iot2022', 'data_url': 'https://archive.ics.uci.edu/static/public/942/data.csv', 'abstract': 'The RT-IoT2022, a proprietary dataset derived from a real-time IoT infrastructure, is introduced as a comprehensive resource integrating a diverse range of IoT devices and sophisticated network attack methodologies. This dataset encompasses both normal and adversarial network behaviours, providing a general representation of real-world scenarios.\\nIncorporating data from IoT devices such as ThingSpeak-LED, Wipro-Bulb, and MQTT-Temp, as well as simulated attack scenarios involving Brute-Force SSH attacks, DDoS attacks using Hping and Slowloris, and Nmap patterns, RT-IoT2022 offers a detailed perspective on the complex nature of network traffic. The bidirectional attributes of network traffic are meticulously captured using the Zeek network monitoring tool and the Flowmeter plugin. Researchers can leverage the RT-IoT2022 dataset to advance the capabilities of Intrusion Detection Systems (IDS), fostering the development of robust and adaptive security solutions for real-time IoT networks. ', 'area': 'Engineering', 'tasks': ['Classification', 'Regression', 'Clustering'], 'characteristics': ['Tabular', 'Sequential', 'Multivariate'], 'num_instances': 123117, 'num_features': 83, 'feature_types': ['Real', 'Categorical'], 'demographics': [], 'target_col': ['Attack_type'], 'index_col': ['id'], 'has_missing_values': 'no', 'missing_values_symbol': None, 'year_of_dataset_creation': 2023, 'last_updated': 'Fri Mar 08 2024', 'dataset_doi': '10.24432/C5P338', 'creators': ['B. S.', 'Rohini Nagapadma'], 'intro_paper': {'title': 'Quantized autoencoder (QAE) intrusion detection system for anomaly detection in resource-constrained IoT devices using RT-IoT2022 dataset', 'authors': 'B. S. Sharmila, Rohini Nagapadma', 'published_in': 'Cybersecurity', 'year': 2023, 'url': 'https://www.semanticscholar.org/paper/753f6ede01b4acaa325e302c38f1e0c1ade74f5b', 'doi': None}, 'additional_info': {'summary': None, 'purpose': None, 'funded_by': None, 'instances_represent': None, 'recommended_data_splits': None, 'sensitive_data': None, 'preprocessing_description': None, 'variable_info': 'Column Details:\\nid.orig_p\\nid.resp_p\\nproto\\nservice\\nflow_duration\\nfwd_pkts_tot\\nbwd_pkts_tot\\nfwd_data_pkts_tot\\nbwd_data_pkts_tot\\nfwd_pkts_per_sec\\nbwd_pkts_per_sec\\nflow_pkts_per_sec\\ndown_up_ratio\\nfwd_header_size_tot\\nfwd_header_size_min\\nfwd_header_size_max\\nbwd_header_size_tot\\nbwd_header_size_min\\nbwd_header_size_max\\nflow_FIN_flag_count\\nflow_SYN_flag_count\\nflow_RST_flag_count\\nfwd_PSH_flag_count\\nbwd_PSH_flag_count\\nflow_ACK_flag_count\\nfwd_URG_flag_count\\nbwd_URG_flag_count\\nflow_CWR_flag_count\\nflow_ECE_flag_count\\nfwd_pkts_payload.min\\nfwd_pkts_payload.max\\nfwd_pkts_payload.tot\\nfwd_pkts_payload.avg\\nfwd_pkts_payload.std\\nbwd_pkts_payload.min\\nbwd_pkts_payload.max\\nbwd_pkts_payload.tot\\nbwd_pkts_payload.avg\\nbwd_pkts_payload.std\\nflow_pkts_payload.min\\nflow_pkts_payload.max\\nflow_pkts_payload.tot\\nflow_pkts_payload.avg\\nflow_pkts_payload.std\\nfwd_iat.min\\nfwd_iat.max\\nfwd_iat.tot\\nfwd_iat.avg\\nfwd_iat.std\\nbwd_iat.min\\nbwd_iat.max\\nbwd_iat.tot\\nbwd_iat.avg\\nbwd_iat.std\\nflow_iat.min\\nflow_iat.max\\nflow_iat.tot\\nflow_iat.avg\\nflow_iat.std\\npayload_bytes_per_second\\nfwd_subflow_pkts\\nbwd_subflow_pkts\\nfwd_subflow_bytes\\nbwd_subflow_bytes\\nfwd_bulk_bytes\\nbwd_bulk_bytes\\nfwd_bulk_packets\\nbwd_bulk_packets\\nfwd_bulk_rate\\nbwd_bulk_rate\\nactive.min\\nactive.max\\nactive.tot\\nactive.avg\\nactive.std\\nidle.min\\nidle.max\\nidle.tot\\nidle.avg\\nidle.std\\nfwd_init_window_size\\nbwd_init_window_size\\nfwd_last_window_size\\nAttack_type', 'citation': None}}\n",
      "                    name     role         type demographic description units  \\\n",
      "0              id.orig_p  Feature      Integer        None        None  None   \n",
      "1              id.resp_p  Feature      Integer        None        None  None   \n",
      "2                  proto  Feature  Categorical        None        None  None   \n",
      "3                service  Feature   Continuous        None        None  None   \n",
      "4          flow_duration  Feature   Continuous        None        None  None   \n",
      "..                   ...      ...          ...         ...         ...   ...   \n",
      "80  fwd_init_window_size  Feature      Integer        None        None  None   \n",
      "81  bwd_init_window_size  Feature      Integer        None        None  None   \n",
      "82  fwd_last_window_size  Feature      Integer        None        None  None   \n",
      "83           Attack_type   Target  Categorical        None        None  None   \n",
      "84                    id       ID      Integer        None        None  None   \n",
      "\n",
      "   missing_values  \n",
      "0              no  \n",
      "1              no  \n",
      "2              no  \n",
      "3              no  \n",
      "4              no  \n",
      "..            ...  \n",
      "80             no  \n",
      "81             no  \n",
      "82             no  \n",
      "83             no  \n",
      "84             no  \n",
      "\n",
      "[85 rows x 7 columns]\n"
     ]
    }
   ],
   "source": [
    "# fetch dataset\n",
    "rt_iot2022 = fetch_ucirepo(id=942)\n",
    "\n",
    "# data (as pandas dataframes)\n",
    "X = rt_iot2022.data.features\n",
    "y = rt_iot2022.data.targets\n",
    "\n",
    "# metadata\n",
    "print(rt_iot2022.metadata)\n",
    "\n",
    "# variable information\n",
    "print(rt_iot2022.variables)"
   ]
  },
  {
   "cell_type": "markdown",
   "metadata": {
    "id": "LAZJbFdwc5iR"
   },
   "source": [
    "## **Encoding Qualitative Data**"
   ]
  },
  {
   "cell_type": "markdown",
   "metadata": {
    "id": "kovMsHtqdWzv"
   },
   "source": [
    "### **OneHot Encoding**"
   ]
  },
  {
   "cell_type": "code",
   "execution_count": 5,
   "metadata": {
    "id": "RFPfmF1tclFu"
   },
   "outputs": [
    {
     "data": {
      "text/html": [
       "<div>\n",
       "<style scoped>\n",
       "    .dataframe tbody tr th:only-of-type {\n",
       "        vertical-align: middle;\n",
       "    }\n",
       "\n",
       "    .dataframe tbody tr th {\n",
       "        vertical-align: top;\n",
       "    }\n",
       "\n",
       "    .dataframe thead th {\n",
       "        text-align: right;\n",
       "    }\n",
       "</style>\n",
       "<table border=\"1\" class=\"dataframe\">\n",
       "  <thead>\n",
       "    <tr style=\"text-align: right;\">\n",
       "      <th></th>\n",
       "      <th>id.orig_p</th>\n",
       "      <th>id.resp_p</th>\n",
       "      <th>proto</th>\n",
       "      <th>service</th>\n",
       "      <th>flow_duration</th>\n",
       "      <th>fwd_pkts_tot</th>\n",
       "      <th>bwd_pkts_tot</th>\n",
       "      <th>fwd_data_pkts_tot</th>\n",
       "      <th>bwd_data_pkts_tot</th>\n",
       "      <th>fwd_pkts_per_sec</th>\n",
       "      <th>...</th>\n",
       "      <th>active.avg</th>\n",
       "      <th>active.std</th>\n",
       "      <th>idle.min</th>\n",
       "      <th>idle.max</th>\n",
       "      <th>idle.tot</th>\n",
       "      <th>idle.avg</th>\n",
       "      <th>idle.std</th>\n",
       "      <th>fwd_init_window_size</th>\n",
       "      <th>bwd_init_window_size</th>\n",
       "      <th>fwd_last_window_size</th>\n",
       "    </tr>\n",
       "  </thead>\n",
       "  <tbody>\n",
       "    <tr>\n",
       "      <th>0</th>\n",
       "      <td>38667</td>\n",
       "      <td>1883</td>\n",
       "      <td>tcp</td>\n",
       "      <td>mqtt</td>\n",
       "      <td>32.011598</td>\n",
       "      <td>9</td>\n",
       "      <td>5</td>\n",
       "      <td>3</td>\n",
       "      <td>3</td>\n",
       "      <td>0.281148</td>\n",
       "      <td>...</td>\n",
       "      <td>2.282415e+06</td>\n",
       "      <td>0.0</td>\n",
       "      <td>29729182.96</td>\n",
       "      <td>29729182.96</td>\n",
       "      <td>29729182.96</td>\n",
       "      <td>29729182.96</td>\n",
       "      <td>0.0</td>\n",
       "      <td>64240</td>\n",
       "      <td>26847</td>\n",
       "      <td>502</td>\n",
       "    </tr>\n",
       "    <tr>\n",
       "      <th>1</th>\n",
       "      <td>51143</td>\n",
       "      <td>1883</td>\n",
       "      <td>tcp</td>\n",
       "      <td>mqtt</td>\n",
       "      <td>31.883584</td>\n",
       "      <td>9</td>\n",
       "      <td>5</td>\n",
       "      <td>3</td>\n",
       "      <td>3</td>\n",
       "      <td>0.282277</td>\n",
       "      <td>...</td>\n",
       "      <td>2.028307e+06</td>\n",
       "      <td>0.0</td>\n",
       "      <td>29855277.06</td>\n",
       "      <td>29855277.06</td>\n",
       "      <td>29855277.06</td>\n",
       "      <td>29855277.06</td>\n",
       "      <td>0.0</td>\n",
       "      <td>64240</td>\n",
       "      <td>26847</td>\n",
       "      <td>502</td>\n",
       "    </tr>\n",
       "    <tr>\n",
       "      <th>2</th>\n",
       "      <td>44761</td>\n",
       "      <td>1883</td>\n",
       "      <td>tcp</td>\n",
       "      <td>mqtt</td>\n",
       "      <td>32.124053</td>\n",
       "      <td>9</td>\n",
       "      <td>5</td>\n",
       "      <td>3</td>\n",
       "      <td>3</td>\n",
       "      <td>0.280164</td>\n",
       "      <td>...</td>\n",
       "      <td>2.281904e+06</td>\n",
       "      <td>0.0</td>\n",
       "      <td>29842149.02</td>\n",
       "      <td>29842149.02</td>\n",
       "      <td>29842149.02</td>\n",
       "      <td>29842149.02</td>\n",
       "      <td>0.0</td>\n",
       "      <td>64240</td>\n",
       "      <td>26847</td>\n",
       "      <td>502</td>\n",
       "    </tr>\n",
       "    <tr>\n",
       "      <th>3</th>\n",
       "      <td>60893</td>\n",
       "      <td>1883</td>\n",
       "      <td>tcp</td>\n",
       "      <td>mqtt</td>\n",
       "      <td>31.961063</td>\n",
       "      <td>9</td>\n",
       "      <td>5</td>\n",
       "      <td>3</td>\n",
       "      <td>3</td>\n",
       "      <td>0.281593</td>\n",
       "      <td>...</td>\n",
       "      <td>2.047288e+06</td>\n",
       "      <td>0.0</td>\n",
       "      <td>29913774.97</td>\n",
       "      <td>29913774.97</td>\n",
       "      <td>29913774.97</td>\n",
       "      <td>29913774.97</td>\n",
       "      <td>0.0</td>\n",
       "      <td>64240</td>\n",
       "      <td>26847</td>\n",
       "      <td>502</td>\n",
       "    </tr>\n",
       "    <tr>\n",
       "      <th>4</th>\n",
       "      <td>51087</td>\n",
       "      <td>1883</td>\n",
       "      <td>tcp</td>\n",
       "      <td>mqtt</td>\n",
       "      <td>31.902362</td>\n",
       "      <td>9</td>\n",
       "      <td>5</td>\n",
       "      <td>3</td>\n",
       "      <td>3</td>\n",
       "      <td>0.282111</td>\n",
       "      <td>...</td>\n",
       "      <td>2.087657e+06</td>\n",
       "      <td>0.0</td>\n",
       "      <td>29814704.90</td>\n",
       "      <td>29814704.90</td>\n",
       "      <td>29814704.90</td>\n",
       "      <td>29814704.90</td>\n",
       "      <td>0.0</td>\n",
       "      <td>64240</td>\n",
       "      <td>26847</td>\n",
       "      <td>502</td>\n",
       "    </tr>\n",
       "    <tr>\n",
       "      <th>...</th>\n",
       "      <td>...</td>\n",
       "      <td>...</td>\n",
       "      <td>...</td>\n",
       "      <td>...</td>\n",
       "      <td>...</td>\n",
       "      <td>...</td>\n",
       "      <td>...</td>\n",
       "      <td>...</td>\n",
       "      <td>...</td>\n",
       "      <td>...</td>\n",
       "      <td>...</td>\n",
       "      <td>...</td>\n",
       "      <td>...</td>\n",
       "      <td>...</td>\n",
       "      <td>...</td>\n",
       "      <td>...</td>\n",
       "      <td>...</td>\n",
       "      <td>...</td>\n",
       "      <td>...</td>\n",
       "      <td>...</td>\n",
       "      <td>...</td>\n",
       "    </tr>\n",
       "    <tr>\n",
       "      <th>123112</th>\n",
       "      <td>59247</td>\n",
       "      <td>63331</td>\n",
       "      <td>tcp</td>\n",
       "      <td>-</td>\n",
       "      <td>0.000006</td>\n",
       "      <td>1</td>\n",
       "      <td>1</td>\n",
       "      <td>0</td>\n",
       "      <td>0</td>\n",
       "      <td>167772.160000</td>\n",
       "      <td>...</td>\n",
       "      <td>5.960464e+00</td>\n",
       "      <td>0.0</td>\n",
       "      <td>0.00</td>\n",
       "      <td>0.00</td>\n",
       "      <td>0.00</td>\n",
       "      <td>0.00</td>\n",
       "      <td>0.0</td>\n",
       "      <td>1024</td>\n",
       "      <td>0</td>\n",
       "      <td>1024</td>\n",
       "    </tr>\n",
       "    <tr>\n",
       "      <th>123113</th>\n",
       "      <td>59247</td>\n",
       "      <td>64623</td>\n",
       "      <td>tcp</td>\n",
       "      <td>-</td>\n",
       "      <td>0.000007</td>\n",
       "      <td>1</td>\n",
       "      <td>1</td>\n",
       "      <td>0</td>\n",
       "      <td>0</td>\n",
       "      <td>144631.172400</td>\n",
       "      <td>...</td>\n",
       "      <td>6.914139e+00</td>\n",
       "      <td>0.0</td>\n",
       "      <td>0.00</td>\n",
       "      <td>0.00</td>\n",
       "      <td>0.00</td>\n",
       "      <td>0.00</td>\n",
       "      <td>0.0</td>\n",
       "      <td>1024</td>\n",
       "      <td>0</td>\n",
       "      <td>1024</td>\n",
       "    </tr>\n",
       "    <tr>\n",
       "      <th>123114</th>\n",
       "      <td>59247</td>\n",
       "      <td>64680</td>\n",
       "      <td>tcp</td>\n",
       "      <td>-</td>\n",
       "      <td>0.000006</td>\n",
       "      <td>1</td>\n",
       "      <td>1</td>\n",
       "      <td>0</td>\n",
       "      <td>0</td>\n",
       "      <td>167772.160000</td>\n",
       "      <td>...</td>\n",
       "      <td>5.960464e+00</td>\n",
       "      <td>0.0</td>\n",
       "      <td>0.00</td>\n",
       "      <td>0.00</td>\n",
       "      <td>0.00</td>\n",
       "      <td>0.00</td>\n",
       "      <td>0.0</td>\n",
       "      <td>1024</td>\n",
       "      <td>0</td>\n",
       "      <td>1024</td>\n",
       "    </tr>\n",
       "    <tr>\n",
       "      <th>123115</th>\n",
       "      <td>59247</td>\n",
       "      <td>65000</td>\n",
       "      <td>tcp</td>\n",
       "      <td>-</td>\n",
       "      <td>0.000006</td>\n",
       "      <td>1</td>\n",
       "      <td>1</td>\n",
       "      <td>0</td>\n",
       "      <td>0</td>\n",
       "      <td>167772.160000</td>\n",
       "      <td>...</td>\n",
       "      <td>5.960464e+00</td>\n",
       "      <td>0.0</td>\n",
       "      <td>0.00</td>\n",
       "      <td>0.00</td>\n",
       "      <td>0.00</td>\n",
       "      <td>0.00</td>\n",
       "      <td>0.0</td>\n",
       "      <td>1024</td>\n",
       "      <td>0</td>\n",
       "      <td>1024</td>\n",
       "    </tr>\n",
       "    <tr>\n",
       "      <th>123116</th>\n",
       "      <td>59247</td>\n",
       "      <td>65129</td>\n",
       "      <td>tcp</td>\n",
       "      <td>-</td>\n",
       "      <td>0.000006</td>\n",
       "      <td>1</td>\n",
       "      <td>1</td>\n",
       "      <td>0</td>\n",
       "      <td>0</td>\n",
       "      <td>167772.160000</td>\n",
       "      <td>...</td>\n",
       "      <td>5.960464e+00</td>\n",
       "      <td>0.0</td>\n",
       "      <td>0.00</td>\n",
       "      <td>0.00</td>\n",
       "      <td>0.00</td>\n",
       "      <td>0.00</td>\n",
       "      <td>0.0</td>\n",
       "      <td>1024</td>\n",
       "      <td>0</td>\n",
       "      <td>1024</td>\n",
       "    </tr>\n",
       "  </tbody>\n",
       "</table>\n",
       "<p>123117 rows × 83 columns</p>\n",
       "</div>"
      ],
      "text/plain": [
       "        id.orig_p  id.resp_p proto service  flow_duration  fwd_pkts_tot  \\\n",
       "0           38667       1883   tcp    mqtt      32.011598             9   \n",
       "1           51143       1883   tcp    mqtt      31.883584             9   \n",
       "2           44761       1883   tcp    mqtt      32.124053             9   \n",
       "3           60893       1883   tcp    mqtt      31.961063             9   \n",
       "4           51087       1883   tcp    mqtt      31.902362             9   \n",
       "...           ...        ...   ...     ...            ...           ...   \n",
       "123112      59247      63331   tcp       -       0.000006             1   \n",
       "123113      59247      64623   tcp       -       0.000007             1   \n",
       "123114      59247      64680   tcp       -       0.000006             1   \n",
       "123115      59247      65000   tcp       -       0.000006             1   \n",
       "123116      59247      65129   tcp       -       0.000006             1   \n",
       "\n",
       "        bwd_pkts_tot  fwd_data_pkts_tot  bwd_data_pkts_tot  fwd_pkts_per_sec  \\\n",
       "0                  5                  3                  3          0.281148   \n",
       "1                  5                  3                  3          0.282277   \n",
       "2                  5                  3                  3          0.280164   \n",
       "3                  5                  3                  3          0.281593   \n",
       "4                  5                  3                  3          0.282111   \n",
       "...              ...                ...                ...               ...   \n",
       "123112             1                  0                  0     167772.160000   \n",
       "123113             1                  0                  0     144631.172400   \n",
       "123114             1                  0                  0     167772.160000   \n",
       "123115             1                  0                  0     167772.160000   \n",
       "123116             1                  0                  0     167772.160000   \n",
       "\n",
       "        ...    active.avg  active.std     idle.min     idle.max     idle.tot  \\\n",
       "0       ...  2.282415e+06         0.0  29729182.96  29729182.96  29729182.96   \n",
       "1       ...  2.028307e+06         0.0  29855277.06  29855277.06  29855277.06   \n",
       "2       ...  2.281904e+06         0.0  29842149.02  29842149.02  29842149.02   \n",
       "3       ...  2.047288e+06         0.0  29913774.97  29913774.97  29913774.97   \n",
       "4       ...  2.087657e+06         0.0  29814704.90  29814704.90  29814704.90   \n",
       "...     ...           ...         ...          ...          ...          ...   \n",
       "123112  ...  5.960464e+00         0.0         0.00         0.00         0.00   \n",
       "123113  ...  6.914139e+00         0.0         0.00         0.00         0.00   \n",
       "123114  ...  5.960464e+00         0.0         0.00         0.00         0.00   \n",
       "123115  ...  5.960464e+00         0.0         0.00         0.00         0.00   \n",
       "123116  ...  5.960464e+00         0.0         0.00         0.00         0.00   \n",
       "\n",
       "           idle.avg  idle.std  fwd_init_window_size  bwd_init_window_size  \\\n",
       "0       29729182.96       0.0                 64240                 26847   \n",
       "1       29855277.06       0.0                 64240                 26847   \n",
       "2       29842149.02       0.0                 64240                 26847   \n",
       "3       29913774.97       0.0                 64240                 26847   \n",
       "4       29814704.90       0.0                 64240                 26847   \n",
       "...             ...       ...                   ...                   ...   \n",
       "123112         0.00       0.0                  1024                     0   \n",
       "123113         0.00       0.0                  1024                     0   \n",
       "123114         0.00       0.0                  1024                     0   \n",
       "123115         0.00       0.0                  1024                     0   \n",
       "123116         0.00       0.0                  1024                     0   \n",
       "\n",
       "        fwd_last_window_size  \n",
       "0                        502  \n",
       "1                        502  \n",
       "2                        502  \n",
       "3                        502  \n",
       "4                        502  \n",
       "...                      ...  \n",
       "123112                  1024  \n",
       "123113                  1024  \n",
       "123114                  1024  \n",
       "123115                  1024  \n",
       "123116                  1024  \n",
       "\n",
       "[123117 rows x 83 columns]"
      ]
     },
     "execution_count": 5,
     "metadata": {},
     "output_type": "execute_result"
    }
   ],
   "source": [
    "X"
   ]
  },
  {
   "cell_type": "code",
   "execution_count": 6,
   "metadata": {
    "id": "a_IABfisoySp"
   },
   "outputs": [],
   "source": [
    "# Dropping IDs\n",
    "X = X.drop(columns=['id.orig_p', 'id.resp_p'])"
   ]
  },
  {
   "cell_type": "code",
   "execution_count": 7,
   "metadata": {
    "id": "HwIpKQdNpHYx"
   },
   "outputs": [
    {
     "data": {
      "text/html": [
       "<div>\n",
       "<style scoped>\n",
       "    .dataframe tbody tr th:only-of-type {\n",
       "        vertical-align: middle;\n",
       "    }\n",
       "\n",
       "    .dataframe tbody tr th {\n",
       "        vertical-align: top;\n",
       "    }\n",
       "\n",
       "    .dataframe thead th {\n",
       "        text-align: right;\n",
       "    }\n",
       "</style>\n",
       "<table border=\"1\" class=\"dataframe\">\n",
       "  <thead>\n",
       "    <tr style=\"text-align: right;\">\n",
       "      <th></th>\n",
       "      <th>proto</th>\n",
       "      <th>service</th>\n",
       "      <th>flow_duration</th>\n",
       "      <th>fwd_pkts_tot</th>\n",
       "      <th>bwd_pkts_tot</th>\n",
       "      <th>fwd_data_pkts_tot</th>\n",
       "      <th>bwd_data_pkts_tot</th>\n",
       "      <th>fwd_pkts_per_sec</th>\n",
       "      <th>bwd_pkts_per_sec</th>\n",
       "      <th>flow_pkts_per_sec</th>\n",
       "      <th>...</th>\n",
       "      <th>active.avg</th>\n",
       "      <th>active.std</th>\n",
       "      <th>idle.min</th>\n",
       "      <th>idle.max</th>\n",
       "      <th>idle.tot</th>\n",
       "      <th>idle.avg</th>\n",
       "      <th>idle.std</th>\n",
       "      <th>fwd_init_window_size</th>\n",
       "      <th>bwd_init_window_size</th>\n",
       "      <th>fwd_last_window_size</th>\n",
       "    </tr>\n",
       "  </thead>\n",
       "  <tbody>\n",
       "    <tr>\n",
       "      <th>0</th>\n",
       "      <td>tcp</td>\n",
       "      <td>mqtt</td>\n",
       "      <td>32.011598</td>\n",
       "      <td>9</td>\n",
       "      <td>5</td>\n",
       "      <td>3</td>\n",
       "      <td>3</td>\n",
       "      <td>0.281148</td>\n",
       "      <td>0.156193</td>\n",
       "      <td>0.437341</td>\n",
       "      <td>...</td>\n",
       "      <td>2.282415e+06</td>\n",
       "      <td>0.0</td>\n",
       "      <td>29729182.96</td>\n",
       "      <td>29729182.96</td>\n",
       "      <td>29729182.96</td>\n",
       "      <td>29729182.96</td>\n",
       "      <td>0.0</td>\n",
       "      <td>64240</td>\n",
       "      <td>26847</td>\n",
       "      <td>502</td>\n",
       "    </tr>\n",
       "    <tr>\n",
       "      <th>1</th>\n",
       "      <td>tcp</td>\n",
       "      <td>mqtt</td>\n",
       "      <td>31.883584</td>\n",
       "      <td>9</td>\n",
       "      <td>5</td>\n",
       "      <td>3</td>\n",
       "      <td>3</td>\n",
       "      <td>0.282277</td>\n",
       "      <td>0.156821</td>\n",
       "      <td>0.439097</td>\n",
       "      <td>...</td>\n",
       "      <td>2.028307e+06</td>\n",
       "      <td>0.0</td>\n",
       "      <td>29855277.06</td>\n",
       "      <td>29855277.06</td>\n",
       "      <td>29855277.06</td>\n",
       "      <td>29855277.06</td>\n",
       "      <td>0.0</td>\n",
       "      <td>64240</td>\n",
       "      <td>26847</td>\n",
       "      <td>502</td>\n",
       "    </tr>\n",
       "    <tr>\n",
       "      <th>2</th>\n",
       "      <td>tcp</td>\n",
       "      <td>mqtt</td>\n",
       "      <td>32.124053</td>\n",
       "      <td>9</td>\n",
       "      <td>5</td>\n",
       "      <td>3</td>\n",
       "      <td>3</td>\n",
       "      <td>0.280164</td>\n",
       "      <td>0.155647</td>\n",
       "      <td>0.435811</td>\n",
       "      <td>...</td>\n",
       "      <td>2.281904e+06</td>\n",
       "      <td>0.0</td>\n",
       "      <td>29842149.02</td>\n",
       "      <td>29842149.02</td>\n",
       "      <td>29842149.02</td>\n",
       "      <td>29842149.02</td>\n",
       "      <td>0.0</td>\n",
       "      <td>64240</td>\n",
       "      <td>26847</td>\n",
       "      <td>502</td>\n",
       "    </tr>\n",
       "    <tr>\n",
       "      <th>3</th>\n",
       "      <td>tcp</td>\n",
       "      <td>mqtt</td>\n",
       "      <td>31.961063</td>\n",
       "      <td>9</td>\n",
       "      <td>5</td>\n",
       "      <td>3</td>\n",
       "      <td>3</td>\n",
       "      <td>0.281593</td>\n",
       "      <td>0.156440</td>\n",
       "      <td>0.438033</td>\n",
       "      <td>...</td>\n",
       "      <td>2.047288e+06</td>\n",
       "      <td>0.0</td>\n",
       "      <td>29913774.97</td>\n",
       "      <td>29913774.97</td>\n",
       "      <td>29913774.97</td>\n",
       "      <td>29913774.97</td>\n",
       "      <td>0.0</td>\n",
       "      <td>64240</td>\n",
       "      <td>26847</td>\n",
       "      <td>502</td>\n",
       "    </tr>\n",
       "    <tr>\n",
       "      <th>4</th>\n",
       "      <td>tcp</td>\n",
       "      <td>mqtt</td>\n",
       "      <td>31.902362</td>\n",
       "      <td>9</td>\n",
       "      <td>5</td>\n",
       "      <td>3</td>\n",
       "      <td>3</td>\n",
       "      <td>0.282111</td>\n",
       "      <td>0.156728</td>\n",
       "      <td>0.438839</td>\n",
       "      <td>...</td>\n",
       "      <td>2.087657e+06</td>\n",
       "      <td>0.0</td>\n",
       "      <td>29814704.90</td>\n",
       "      <td>29814704.90</td>\n",
       "      <td>29814704.90</td>\n",
       "      <td>29814704.90</td>\n",
       "      <td>0.0</td>\n",
       "      <td>64240</td>\n",
       "      <td>26847</td>\n",
       "      <td>502</td>\n",
       "    </tr>\n",
       "    <tr>\n",
       "      <th>...</th>\n",
       "      <td>...</td>\n",
       "      <td>...</td>\n",
       "      <td>...</td>\n",
       "      <td>...</td>\n",
       "      <td>...</td>\n",
       "      <td>...</td>\n",
       "      <td>...</td>\n",
       "      <td>...</td>\n",
       "      <td>...</td>\n",
       "      <td>...</td>\n",
       "      <td>...</td>\n",
       "      <td>...</td>\n",
       "      <td>...</td>\n",
       "      <td>...</td>\n",
       "      <td>...</td>\n",
       "      <td>...</td>\n",
       "      <td>...</td>\n",
       "      <td>...</td>\n",
       "      <td>...</td>\n",
       "      <td>...</td>\n",
       "      <td>...</td>\n",
       "    </tr>\n",
       "    <tr>\n",
       "      <th>123112</th>\n",
       "      <td>tcp</td>\n",
       "      <td>-</td>\n",
       "      <td>0.000006</td>\n",
       "      <td>1</td>\n",
       "      <td>1</td>\n",
       "      <td>0</td>\n",
       "      <td>0</td>\n",
       "      <td>167772.160000</td>\n",
       "      <td>167772.160000</td>\n",
       "      <td>335544.320000</td>\n",
       "      <td>...</td>\n",
       "      <td>5.960464e+00</td>\n",
       "      <td>0.0</td>\n",
       "      <td>0.00</td>\n",
       "      <td>0.00</td>\n",
       "      <td>0.00</td>\n",
       "      <td>0.00</td>\n",
       "      <td>0.0</td>\n",
       "      <td>1024</td>\n",
       "      <td>0</td>\n",
       "      <td>1024</td>\n",
       "    </tr>\n",
       "    <tr>\n",
       "      <th>123113</th>\n",
       "      <td>tcp</td>\n",
       "      <td>-</td>\n",
       "      <td>0.000007</td>\n",
       "      <td>1</td>\n",
       "      <td>1</td>\n",
       "      <td>0</td>\n",
       "      <td>0</td>\n",
       "      <td>144631.172400</td>\n",
       "      <td>144631.172400</td>\n",
       "      <td>289262.344800</td>\n",
       "      <td>...</td>\n",
       "      <td>6.914139e+00</td>\n",
       "      <td>0.0</td>\n",
       "      <td>0.00</td>\n",
       "      <td>0.00</td>\n",
       "      <td>0.00</td>\n",
       "      <td>0.00</td>\n",
       "      <td>0.0</td>\n",
       "      <td>1024</td>\n",
       "      <td>0</td>\n",
       "      <td>1024</td>\n",
       "    </tr>\n",
       "    <tr>\n",
       "      <th>123114</th>\n",
       "      <td>tcp</td>\n",
       "      <td>-</td>\n",
       "      <td>0.000006</td>\n",
       "      <td>1</td>\n",
       "      <td>1</td>\n",
       "      <td>0</td>\n",
       "      <td>0</td>\n",
       "      <td>167772.160000</td>\n",
       "      <td>167772.160000</td>\n",
       "      <td>335544.320000</td>\n",
       "      <td>...</td>\n",
       "      <td>5.960464e+00</td>\n",
       "      <td>0.0</td>\n",
       "      <td>0.00</td>\n",
       "      <td>0.00</td>\n",
       "      <td>0.00</td>\n",
       "      <td>0.00</td>\n",
       "      <td>0.0</td>\n",
       "      <td>1024</td>\n",
       "      <td>0</td>\n",
       "      <td>1024</td>\n",
       "    </tr>\n",
       "    <tr>\n",
       "      <th>123115</th>\n",
       "      <td>tcp</td>\n",
       "      <td>-</td>\n",
       "      <td>0.000006</td>\n",
       "      <td>1</td>\n",
       "      <td>1</td>\n",
       "      <td>0</td>\n",
       "      <td>0</td>\n",
       "      <td>167772.160000</td>\n",
       "      <td>167772.160000</td>\n",
       "      <td>335544.320000</td>\n",
       "      <td>...</td>\n",
       "      <td>5.960464e+00</td>\n",
       "      <td>0.0</td>\n",
       "      <td>0.00</td>\n",
       "      <td>0.00</td>\n",
       "      <td>0.00</td>\n",
       "      <td>0.00</td>\n",
       "      <td>0.0</td>\n",
       "      <td>1024</td>\n",
       "      <td>0</td>\n",
       "      <td>1024</td>\n",
       "    </tr>\n",
       "    <tr>\n",
       "      <th>123116</th>\n",
       "      <td>tcp</td>\n",
       "      <td>-</td>\n",
       "      <td>0.000006</td>\n",
       "      <td>1</td>\n",
       "      <td>1</td>\n",
       "      <td>0</td>\n",
       "      <td>0</td>\n",
       "      <td>167772.160000</td>\n",
       "      <td>167772.160000</td>\n",
       "      <td>335544.320000</td>\n",
       "      <td>...</td>\n",
       "      <td>5.960464e+00</td>\n",
       "      <td>0.0</td>\n",
       "      <td>0.00</td>\n",
       "      <td>0.00</td>\n",
       "      <td>0.00</td>\n",
       "      <td>0.00</td>\n",
       "      <td>0.0</td>\n",
       "      <td>1024</td>\n",
       "      <td>0</td>\n",
       "      <td>1024</td>\n",
       "    </tr>\n",
       "  </tbody>\n",
       "</table>\n",
       "<p>123117 rows × 81 columns</p>\n",
       "</div>"
      ],
      "text/plain": [
       "       proto service  flow_duration  fwd_pkts_tot  bwd_pkts_tot  \\\n",
       "0        tcp    mqtt      32.011598             9             5   \n",
       "1        tcp    mqtt      31.883584             9             5   \n",
       "2        tcp    mqtt      32.124053             9             5   \n",
       "3        tcp    mqtt      31.961063             9             5   \n",
       "4        tcp    mqtt      31.902362             9             5   \n",
       "...      ...     ...            ...           ...           ...   \n",
       "123112   tcp       -       0.000006             1             1   \n",
       "123113   tcp       -       0.000007             1             1   \n",
       "123114   tcp       -       0.000006             1             1   \n",
       "123115   tcp       -       0.000006             1             1   \n",
       "123116   tcp       -       0.000006             1             1   \n",
       "\n",
       "        fwd_data_pkts_tot  bwd_data_pkts_tot  fwd_pkts_per_sec  \\\n",
       "0                       3                  3          0.281148   \n",
       "1                       3                  3          0.282277   \n",
       "2                       3                  3          0.280164   \n",
       "3                       3                  3          0.281593   \n",
       "4                       3                  3          0.282111   \n",
       "...                   ...                ...               ...   \n",
       "123112                  0                  0     167772.160000   \n",
       "123113                  0                  0     144631.172400   \n",
       "123114                  0                  0     167772.160000   \n",
       "123115                  0                  0     167772.160000   \n",
       "123116                  0                  0     167772.160000   \n",
       "\n",
       "        bwd_pkts_per_sec  flow_pkts_per_sec  ...    active.avg  active.std  \\\n",
       "0               0.156193           0.437341  ...  2.282415e+06         0.0   \n",
       "1               0.156821           0.439097  ...  2.028307e+06         0.0   \n",
       "2               0.155647           0.435811  ...  2.281904e+06         0.0   \n",
       "3               0.156440           0.438033  ...  2.047288e+06         0.0   \n",
       "4               0.156728           0.438839  ...  2.087657e+06         0.0   \n",
       "...                  ...                ...  ...           ...         ...   \n",
       "123112     167772.160000      335544.320000  ...  5.960464e+00         0.0   \n",
       "123113     144631.172400      289262.344800  ...  6.914139e+00         0.0   \n",
       "123114     167772.160000      335544.320000  ...  5.960464e+00         0.0   \n",
       "123115     167772.160000      335544.320000  ...  5.960464e+00         0.0   \n",
       "123116     167772.160000      335544.320000  ...  5.960464e+00         0.0   \n",
       "\n",
       "           idle.min     idle.max     idle.tot     idle.avg  idle.std  \\\n",
       "0       29729182.96  29729182.96  29729182.96  29729182.96       0.0   \n",
       "1       29855277.06  29855277.06  29855277.06  29855277.06       0.0   \n",
       "2       29842149.02  29842149.02  29842149.02  29842149.02       0.0   \n",
       "3       29913774.97  29913774.97  29913774.97  29913774.97       0.0   \n",
       "4       29814704.90  29814704.90  29814704.90  29814704.90       0.0   \n",
       "...             ...          ...          ...          ...       ...   \n",
       "123112         0.00         0.00         0.00         0.00       0.0   \n",
       "123113         0.00         0.00         0.00         0.00       0.0   \n",
       "123114         0.00         0.00         0.00         0.00       0.0   \n",
       "123115         0.00         0.00         0.00         0.00       0.0   \n",
       "123116         0.00         0.00         0.00         0.00       0.0   \n",
       "\n",
       "        fwd_init_window_size  bwd_init_window_size  fwd_last_window_size  \n",
       "0                      64240                 26847                   502  \n",
       "1                      64240                 26847                   502  \n",
       "2                      64240                 26847                   502  \n",
       "3                      64240                 26847                   502  \n",
       "4                      64240                 26847                   502  \n",
       "...                      ...                   ...                   ...  \n",
       "123112                  1024                     0                  1024  \n",
       "123113                  1024                     0                  1024  \n",
       "123114                  1024                     0                  1024  \n",
       "123115                  1024                     0                  1024  \n",
       "123116                  1024                     0                  1024  \n",
       "\n",
       "[123117 rows x 81 columns]"
      ]
     },
     "execution_count": 7,
     "metadata": {},
     "output_type": "execute_result"
    }
   ],
   "source": [
    "X"
   ]
  },
  {
   "cell_type": "code",
   "execution_count": 8,
   "metadata": {
    "id": "TGib9sbGeG7Z"
   },
   "outputs": [
    {
     "data": {
      "text/plain": [
       "proto\n",
       "tcp     110427\n",
       "udp      12633\n",
       "icmp        57\n",
       "Name: count, dtype: int64"
      ]
     },
     "execution_count": 8,
     "metadata": {},
     "output_type": "execute_result"
    }
   ],
   "source": [
    "# Looking at proto\n",
    "X['proto'].value_counts()"
   ]
  },
  {
   "cell_type": "code",
   "execution_count": 9,
   "metadata": {
    "id": "MWZg3ztpef0x"
   },
   "outputs": [
    {
     "data": {
      "text/plain": [
       "service\n",
       "-         102861\n",
       "dns         9753\n",
       "mqtt        4132\n",
       "http        3464\n",
       "ssl         2663\n",
       "ntp          121\n",
       "dhcp          50\n",
       "irc           43\n",
       "ssh           28\n",
       "radius         2\n",
       "Name: count, dtype: int64"
      ]
     },
     "execution_count": 9,
     "metadata": {},
     "output_type": "execute_result"
    }
   ],
   "source": [
    "# Looking at service\n",
    "X['service'].value_counts()"
   ]
  },
  {
   "cell_type": "code",
   "execution_count": 10,
   "metadata": {
    "id": "rwtfKW3PdVYw"
   },
   "outputs": [],
   "source": [
    "# Encoding proto and service\n",
    "from sklearn.preprocessing import OneHotEncoder\n",
    "\n",
    "onehot = OneHotEncoder()\n",
    "new_cols = onehot.fit_transform(X[['proto', 'service']])"
   ]
  },
  {
   "cell_type": "code",
   "execution_count": 11,
   "metadata": {
    "id": "Ox9i4MrieEeJ"
   },
   "outputs": [],
   "source": [
    "# Dropping old columns\n",
    "X = X.drop(columns=['proto', 'service'])"
   ]
  },
  {
   "cell_type": "code",
   "execution_count": 12,
   "metadata": {
    "id": "MxV5T3sVgoZR"
   },
   "outputs": [
    {
     "data": {
      "text/plain": [
       "[array(['icmp', 'tcp', 'udp'], dtype=object),\n",
       " array(['-', 'dhcp', 'dns', 'http', 'irc', 'mqtt', 'ntp', 'radius', 'ssh',\n",
       "        'ssl'], dtype=object)]"
      ]
     },
     "execution_count": 12,
     "metadata": {},
     "output_type": "execute_result"
    }
   ],
   "source": [
    "# Checking new column names\n",
    "onehot.categories_"
   ]
  },
  {
   "cell_type": "code",
   "execution_count": 13,
   "metadata": {
    "id": "pPsCa2YGg3Pw"
   },
   "outputs": [],
   "source": [
    "# Combining all column names\n",
    "col_names = np.concatenate([onehot.categories_[0], onehot.categories_[1]])"
   ]
  },
  {
   "cell_type": "code",
   "execution_count": 14,
   "metadata": {
    "id": "0BB3yGA7gBSB"
   },
   "outputs": [],
   "source": [
    "# Adding new one hot columns\n",
    "X = X.join(pd.DataFrame(new_cols.toarray(), columns=col_names))"
   ]
  },
  {
   "cell_type": "code",
   "execution_count": 15,
   "metadata": {
    "id": "Y2PtBANLiQqe"
   },
   "outputs": [
    {
     "data": {
      "text/html": [
       "<div>\n",
       "<style scoped>\n",
       "    .dataframe tbody tr th:only-of-type {\n",
       "        vertical-align: middle;\n",
       "    }\n",
       "\n",
       "    .dataframe tbody tr th {\n",
       "        vertical-align: top;\n",
       "    }\n",
       "\n",
       "    .dataframe thead th {\n",
       "        text-align: right;\n",
       "    }\n",
       "</style>\n",
       "<table border=\"1\" class=\"dataframe\">\n",
       "  <thead>\n",
       "    <tr style=\"text-align: right;\">\n",
       "      <th></th>\n",
       "      <th>flow_duration</th>\n",
       "      <th>fwd_pkts_tot</th>\n",
       "      <th>bwd_pkts_tot</th>\n",
       "      <th>fwd_data_pkts_tot</th>\n",
       "      <th>bwd_data_pkts_tot</th>\n",
       "      <th>fwd_pkts_per_sec</th>\n",
       "      <th>bwd_pkts_per_sec</th>\n",
       "      <th>flow_pkts_per_sec</th>\n",
       "      <th>down_up_ratio</th>\n",
       "      <th>fwd_header_size_tot</th>\n",
       "      <th>...</th>\n",
       "      <th>-</th>\n",
       "      <th>dhcp</th>\n",
       "      <th>dns</th>\n",
       "      <th>http</th>\n",
       "      <th>irc</th>\n",
       "      <th>mqtt</th>\n",
       "      <th>ntp</th>\n",
       "      <th>radius</th>\n",
       "      <th>ssh</th>\n",
       "      <th>ssl</th>\n",
       "    </tr>\n",
       "  </thead>\n",
       "  <tbody>\n",
       "    <tr>\n",
       "      <th>0</th>\n",
       "      <td>32.011598</td>\n",
       "      <td>9</td>\n",
       "      <td>5</td>\n",
       "      <td>3</td>\n",
       "      <td>3</td>\n",
       "      <td>0.281148</td>\n",
       "      <td>0.156193</td>\n",
       "      <td>0.437341</td>\n",
       "      <td>0.555556</td>\n",
       "      <td>296</td>\n",
       "      <td>...</td>\n",
       "      <td>0.0</td>\n",
       "      <td>0.0</td>\n",
       "      <td>0.0</td>\n",
       "      <td>0.0</td>\n",
       "      <td>0.0</td>\n",
       "      <td>1.0</td>\n",
       "      <td>0.0</td>\n",
       "      <td>0.0</td>\n",
       "      <td>0.0</td>\n",
       "      <td>0.0</td>\n",
       "    </tr>\n",
       "    <tr>\n",
       "      <th>1</th>\n",
       "      <td>31.883584</td>\n",
       "      <td>9</td>\n",
       "      <td>5</td>\n",
       "      <td>3</td>\n",
       "      <td>3</td>\n",
       "      <td>0.282277</td>\n",
       "      <td>0.156821</td>\n",
       "      <td>0.439097</td>\n",
       "      <td>0.555556</td>\n",
       "      <td>296</td>\n",
       "      <td>...</td>\n",
       "      <td>0.0</td>\n",
       "      <td>0.0</td>\n",
       "      <td>0.0</td>\n",
       "      <td>0.0</td>\n",
       "      <td>0.0</td>\n",
       "      <td>1.0</td>\n",
       "      <td>0.0</td>\n",
       "      <td>0.0</td>\n",
       "      <td>0.0</td>\n",
       "      <td>0.0</td>\n",
       "    </tr>\n",
       "    <tr>\n",
       "      <th>2</th>\n",
       "      <td>32.124053</td>\n",
       "      <td>9</td>\n",
       "      <td>5</td>\n",
       "      <td>3</td>\n",
       "      <td>3</td>\n",
       "      <td>0.280164</td>\n",
       "      <td>0.155647</td>\n",
       "      <td>0.435811</td>\n",
       "      <td>0.555556</td>\n",
       "      <td>296</td>\n",
       "      <td>...</td>\n",
       "      <td>0.0</td>\n",
       "      <td>0.0</td>\n",
       "      <td>0.0</td>\n",
       "      <td>0.0</td>\n",
       "      <td>0.0</td>\n",
       "      <td>1.0</td>\n",
       "      <td>0.0</td>\n",
       "      <td>0.0</td>\n",
       "      <td>0.0</td>\n",
       "      <td>0.0</td>\n",
       "    </tr>\n",
       "    <tr>\n",
       "      <th>3</th>\n",
       "      <td>31.961063</td>\n",
       "      <td>9</td>\n",
       "      <td>5</td>\n",
       "      <td>3</td>\n",
       "      <td>3</td>\n",
       "      <td>0.281593</td>\n",
       "      <td>0.156440</td>\n",
       "      <td>0.438033</td>\n",
       "      <td>0.555556</td>\n",
       "      <td>296</td>\n",
       "      <td>...</td>\n",
       "      <td>0.0</td>\n",
       "      <td>0.0</td>\n",
       "      <td>0.0</td>\n",
       "      <td>0.0</td>\n",
       "      <td>0.0</td>\n",
       "      <td>1.0</td>\n",
       "      <td>0.0</td>\n",
       "      <td>0.0</td>\n",
       "      <td>0.0</td>\n",
       "      <td>0.0</td>\n",
       "    </tr>\n",
       "    <tr>\n",
       "      <th>4</th>\n",
       "      <td>31.902362</td>\n",
       "      <td>9</td>\n",
       "      <td>5</td>\n",
       "      <td>3</td>\n",
       "      <td>3</td>\n",
       "      <td>0.282111</td>\n",
       "      <td>0.156728</td>\n",
       "      <td>0.438839</td>\n",
       "      <td>0.555556</td>\n",
       "      <td>296</td>\n",
       "      <td>...</td>\n",
       "      <td>0.0</td>\n",
       "      <td>0.0</td>\n",
       "      <td>0.0</td>\n",
       "      <td>0.0</td>\n",
       "      <td>0.0</td>\n",
       "      <td>1.0</td>\n",
       "      <td>0.0</td>\n",
       "      <td>0.0</td>\n",
       "      <td>0.0</td>\n",
       "      <td>0.0</td>\n",
       "    </tr>\n",
       "    <tr>\n",
       "      <th>...</th>\n",
       "      <td>...</td>\n",
       "      <td>...</td>\n",
       "      <td>...</td>\n",
       "      <td>...</td>\n",
       "      <td>...</td>\n",
       "      <td>...</td>\n",
       "      <td>...</td>\n",
       "      <td>...</td>\n",
       "      <td>...</td>\n",
       "      <td>...</td>\n",
       "      <td>...</td>\n",
       "      <td>...</td>\n",
       "      <td>...</td>\n",
       "      <td>...</td>\n",
       "      <td>...</td>\n",
       "      <td>...</td>\n",
       "      <td>...</td>\n",
       "      <td>...</td>\n",
       "      <td>...</td>\n",
       "      <td>...</td>\n",
       "      <td>...</td>\n",
       "    </tr>\n",
       "    <tr>\n",
       "      <th>123112</th>\n",
       "      <td>0.000006</td>\n",
       "      <td>1</td>\n",
       "      <td>1</td>\n",
       "      <td>0</td>\n",
       "      <td>0</td>\n",
       "      <td>167772.160000</td>\n",
       "      <td>167772.160000</td>\n",
       "      <td>335544.320000</td>\n",
       "      <td>1.000000</td>\n",
       "      <td>20</td>\n",
       "      <td>...</td>\n",
       "      <td>1.0</td>\n",
       "      <td>0.0</td>\n",
       "      <td>0.0</td>\n",
       "      <td>0.0</td>\n",
       "      <td>0.0</td>\n",
       "      <td>0.0</td>\n",
       "      <td>0.0</td>\n",
       "      <td>0.0</td>\n",
       "      <td>0.0</td>\n",
       "      <td>0.0</td>\n",
       "    </tr>\n",
       "    <tr>\n",
       "      <th>123113</th>\n",
       "      <td>0.000007</td>\n",
       "      <td>1</td>\n",
       "      <td>1</td>\n",
       "      <td>0</td>\n",
       "      <td>0</td>\n",
       "      <td>144631.172400</td>\n",
       "      <td>144631.172400</td>\n",
       "      <td>289262.344800</td>\n",
       "      <td>1.000000</td>\n",
       "      <td>20</td>\n",
       "      <td>...</td>\n",
       "      <td>1.0</td>\n",
       "      <td>0.0</td>\n",
       "      <td>0.0</td>\n",
       "      <td>0.0</td>\n",
       "      <td>0.0</td>\n",
       "      <td>0.0</td>\n",
       "      <td>0.0</td>\n",
       "      <td>0.0</td>\n",
       "      <td>0.0</td>\n",
       "      <td>0.0</td>\n",
       "    </tr>\n",
       "    <tr>\n",
       "      <th>123114</th>\n",
       "      <td>0.000006</td>\n",
       "      <td>1</td>\n",
       "      <td>1</td>\n",
       "      <td>0</td>\n",
       "      <td>0</td>\n",
       "      <td>167772.160000</td>\n",
       "      <td>167772.160000</td>\n",
       "      <td>335544.320000</td>\n",
       "      <td>1.000000</td>\n",
       "      <td>20</td>\n",
       "      <td>...</td>\n",
       "      <td>1.0</td>\n",
       "      <td>0.0</td>\n",
       "      <td>0.0</td>\n",
       "      <td>0.0</td>\n",
       "      <td>0.0</td>\n",
       "      <td>0.0</td>\n",
       "      <td>0.0</td>\n",
       "      <td>0.0</td>\n",
       "      <td>0.0</td>\n",
       "      <td>0.0</td>\n",
       "    </tr>\n",
       "    <tr>\n",
       "      <th>123115</th>\n",
       "      <td>0.000006</td>\n",
       "      <td>1</td>\n",
       "      <td>1</td>\n",
       "      <td>0</td>\n",
       "      <td>0</td>\n",
       "      <td>167772.160000</td>\n",
       "      <td>167772.160000</td>\n",
       "      <td>335544.320000</td>\n",
       "      <td>1.000000</td>\n",
       "      <td>20</td>\n",
       "      <td>...</td>\n",
       "      <td>1.0</td>\n",
       "      <td>0.0</td>\n",
       "      <td>0.0</td>\n",
       "      <td>0.0</td>\n",
       "      <td>0.0</td>\n",
       "      <td>0.0</td>\n",
       "      <td>0.0</td>\n",
       "      <td>0.0</td>\n",
       "      <td>0.0</td>\n",
       "      <td>0.0</td>\n",
       "    </tr>\n",
       "    <tr>\n",
       "      <th>123116</th>\n",
       "      <td>0.000006</td>\n",
       "      <td>1</td>\n",
       "      <td>1</td>\n",
       "      <td>0</td>\n",
       "      <td>0</td>\n",
       "      <td>167772.160000</td>\n",
       "      <td>167772.160000</td>\n",
       "      <td>335544.320000</td>\n",
       "      <td>1.000000</td>\n",
       "      <td>20</td>\n",
       "      <td>...</td>\n",
       "      <td>1.0</td>\n",
       "      <td>0.0</td>\n",
       "      <td>0.0</td>\n",
       "      <td>0.0</td>\n",
       "      <td>0.0</td>\n",
       "      <td>0.0</td>\n",
       "      <td>0.0</td>\n",
       "      <td>0.0</td>\n",
       "      <td>0.0</td>\n",
       "      <td>0.0</td>\n",
       "    </tr>\n",
       "  </tbody>\n",
       "</table>\n",
       "<p>123117 rows × 92 columns</p>\n",
       "</div>"
      ],
      "text/plain": [
       "        flow_duration  fwd_pkts_tot  bwd_pkts_tot  fwd_data_pkts_tot  \\\n",
       "0           32.011598             9             5                  3   \n",
       "1           31.883584             9             5                  3   \n",
       "2           32.124053             9             5                  3   \n",
       "3           31.961063             9             5                  3   \n",
       "4           31.902362             9             5                  3   \n",
       "...               ...           ...           ...                ...   \n",
       "123112       0.000006             1             1                  0   \n",
       "123113       0.000007             1             1                  0   \n",
       "123114       0.000006             1             1                  0   \n",
       "123115       0.000006             1             1                  0   \n",
       "123116       0.000006             1             1                  0   \n",
       "\n",
       "        bwd_data_pkts_tot  fwd_pkts_per_sec  bwd_pkts_per_sec  \\\n",
       "0                       3          0.281148          0.156193   \n",
       "1                       3          0.282277          0.156821   \n",
       "2                       3          0.280164          0.155647   \n",
       "3                       3          0.281593          0.156440   \n",
       "4                       3          0.282111          0.156728   \n",
       "...                   ...               ...               ...   \n",
       "123112                  0     167772.160000     167772.160000   \n",
       "123113                  0     144631.172400     144631.172400   \n",
       "123114                  0     167772.160000     167772.160000   \n",
       "123115                  0     167772.160000     167772.160000   \n",
       "123116                  0     167772.160000     167772.160000   \n",
       "\n",
       "        flow_pkts_per_sec  down_up_ratio  fwd_header_size_tot  ...    -  dhcp  \\\n",
       "0                0.437341       0.555556                  296  ...  0.0   0.0   \n",
       "1                0.439097       0.555556                  296  ...  0.0   0.0   \n",
       "2                0.435811       0.555556                  296  ...  0.0   0.0   \n",
       "3                0.438033       0.555556                  296  ...  0.0   0.0   \n",
       "4                0.438839       0.555556                  296  ...  0.0   0.0   \n",
       "...                   ...            ...                  ...  ...  ...   ...   \n",
       "123112      335544.320000       1.000000                   20  ...  1.0   0.0   \n",
       "123113      289262.344800       1.000000                   20  ...  1.0   0.0   \n",
       "123114      335544.320000       1.000000                   20  ...  1.0   0.0   \n",
       "123115      335544.320000       1.000000                   20  ...  1.0   0.0   \n",
       "123116      335544.320000       1.000000                   20  ...  1.0   0.0   \n",
       "\n",
       "        dns  http  irc  mqtt  ntp  radius  ssh  ssl  \n",
       "0       0.0   0.0  0.0   1.0  0.0     0.0  0.0  0.0  \n",
       "1       0.0   0.0  0.0   1.0  0.0     0.0  0.0  0.0  \n",
       "2       0.0   0.0  0.0   1.0  0.0     0.0  0.0  0.0  \n",
       "3       0.0   0.0  0.0   1.0  0.0     0.0  0.0  0.0  \n",
       "4       0.0   0.0  0.0   1.0  0.0     0.0  0.0  0.0  \n",
       "...     ...   ...  ...   ...  ...     ...  ...  ...  \n",
       "123112  0.0   0.0  0.0   0.0  0.0     0.0  0.0  0.0  \n",
       "123113  0.0   0.0  0.0   0.0  0.0     0.0  0.0  0.0  \n",
       "123114  0.0   0.0  0.0   0.0  0.0     0.0  0.0  0.0  \n",
       "123115  0.0   0.0  0.0   0.0  0.0     0.0  0.0  0.0  \n",
       "123116  0.0   0.0  0.0   0.0  0.0     0.0  0.0  0.0  \n",
       "\n",
       "[123117 rows x 92 columns]"
      ]
     },
     "execution_count": 15,
     "metadata": {},
     "output_type": "execute_result"
    }
   ],
   "source": [
    "X"
   ]
  },
  {
   "cell_type": "markdown",
   "metadata": {
    "id": "8T04BAubi3Mn"
   },
   "source": [
    "### **Label encoding**"
   ]
  },
  {
   "cell_type": "code",
   "execution_count": 16,
   "metadata": {
    "id": "c-3xrZZaiduy"
   },
   "outputs": [
    {
     "data": {
      "text/plain": [
       "Attack_type               \n",
       "DOS_SYN_Hping                 94659\n",
       "Thing_Speak                    8108\n",
       "ARP_poisioning                 7750\n",
       "MQTT_Publish                   4146\n",
       "NMAP_UDP_SCAN                  2590\n",
       "NMAP_XMAS_TREE_SCAN            2010\n",
       "NMAP_OS_DETECTION              2000\n",
       "NMAP_TCP_scan                  1002\n",
       "DDOS_Slowloris                  534\n",
       "Wipro_bulb                      253\n",
       "Metasploit_Brute_Force_SSH       37\n",
       "NMAP_FIN_SCAN                    28\n",
       "Name: count, dtype: int64"
      ]
     },
     "execution_count": 16,
     "metadata": {},
     "output_type": "execute_result"
    }
   ],
   "source": [
    "y.value_counts()"
   ]
  },
  {
   "cell_type": "code",
   "execution_count": 17,
   "metadata": {
    "id": "IsPA7807bZK1"
   },
   "outputs": [],
   "source": [
    "# Dropping NMAP_FIN_SCAN and Metasploit_Brute_Force_SSH\n",
    "labels = ['DOS_SYN_Hping', 'Thing_Speak', 'ARP_poisioning', 'MQTT_Publish', 'NMAP_UDP_SCAN', 'NMAP_XMAS_TREE_SCAN', 'NMAP_OS_DETECTION', 'NMAP_TCP_scan', 'DDOS_Slowloris', 'Wipro_bulb']\n",
    "\n",
    "\n",
    "# Filter X based on indices where y has valid values\n",
    "X = X[y.isin(labels).values]\n",
    "\n",
    "\n",
    "# Filter y based on labels\n",
    "y = y[y.isin(labels).values]"
   ]
  },
  {
   "cell_type": "code",
   "execution_count": 18,
   "metadata": {
    "id": "ssUO1nkLh0da"
   },
   "outputs": [
    {
     "data": {
      "text/plain": [
       "Attack_type    False\n",
       "dtype: bool"
      ]
     },
     "execution_count": 18,
     "metadata": {},
     "output_type": "execute_result"
    }
   ],
   "source": [
    "y.isna().any()"
   ]
  },
  {
   "cell_type": "code",
   "execution_count": 19,
   "metadata": {
    "id": "zHr2LDb-cjgf"
   },
   "outputs": [
    {
     "data": {
      "text/plain": [
       "Attack_type        \n",
       "DOS_SYN_Hping          94659\n",
       "Thing_Speak             8108\n",
       "ARP_poisioning          7750\n",
       "MQTT_Publish            4146\n",
       "NMAP_UDP_SCAN           2590\n",
       "NMAP_XMAS_TREE_SCAN     2010\n",
       "NMAP_OS_DETECTION       2000\n",
       "NMAP_TCP_scan           1002\n",
       "DDOS_Slowloris           534\n",
       "Wipro_bulb               253\n",
       "Name: count, dtype: int64"
      ]
     },
     "execution_count": 19,
     "metadata": {},
     "output_type": "execute_result"
    }
   ],
   "source": [
    "y.value_counts()"
   ]
  },
  {
   "cell_type": "code",
   "execution_count": 20,
   "metadata": {
    "id": "rvlC8PH_h4Tf"
   },
   "outputs": [
    {
     "data": {
      "text/plain": [
       "(123052,)"
      ]
     },
     "execution_count": 20,
     "metadata": {},
     "output_type": "execute_result"
    }
   ],
   "source": [
    "y = y.to_numpy().flatten()\n",
    "y.shape"
   ]
  },
  {
   "cell_type": "code",
   "execution_count": 21,
   "metadata": {
    "id": "aAZDttMmjNEZ"
   },
   "outputs": [],
   "source": [
    "from sklearn.preprocessing import LabelEncoder\n",
    "\n",
    "labelenc = LabelEncoder()\n",
    "y = labelenc.fit_transform(y)"
   ]
  },
  {
   "cell_type": "code",
   "execution_count": 22,
   "metadata": {
    "id": "7_sUmak1j1Bs"
   },
   "outputs": [
    {
     "data": {
      "text/plain": [
       "2    94659\n",
       "8     8108\n",
       "0     7750\n",
       "3     4146\n",
       "6     2590\n",
       "7     2010\n",
       "4     2000\n",
       "5     1002\n",
       "1      534\n",
       "9      253\n",
       "Name: count, dtype: int64"
      ]
     },
     "execution_count": 22,
     "metadata": {},
     "output_type": "execute_result"
    }
   ],
   "source": [
    "df_y = pd.DataFrame(y)\n",
    "df_y.value_counts()"
   ]
  },
  {
   "cell_type": "code",
   "execution_count": 23,
   "metadata": {
    "id": "NSaE0Q4siEf1"
   },
   "outputs": [
    {
     "data": {
      "text/plain": [
       "array(['ARP_poisioning', 'DDOS_Slowloris', 'DOS_SYN_Hping',\n",
       "       'MQTT_Publish', 'NMAP_OS_DETECTION', 'NMAP_TCP_scan',\n",
       "       'NMAP_UDP_SCAN', 'NMAP_XMAS_TREE_SCAN', 'Thing_Speak',\n",
       "       'Wipro_bulb'], dtype=object)"
      ]
     },
     "execution_count": 23,
     "metadata": {},
     "output_type": "execute_result"
    }
   ],
   "source": [
    "labelenc.classes_"
   ]
  },
  {
   "cell_type": "markdown",
   "metadata": {
    "id": "xsyqzX97kwTH"
   },
   "source": [
    "## **Scaling Inputs**"
   ]
  },
  {
   "cell_type": "markdown",
   "metadata": {
    "id": "YU13rCe4lPKg"
   },
   "source": [
    "### **MinMax Scalar**"
   ]
  },
  {
   "cell_type": "code",
   "execution_count": 24,
   "metadata": {
    "id": "BxnhzBmBknuw"
   },
   "outputs": [],
   "source": [
    "from sklearn.preprocessing import MinMaxScaler\n",
    "\n",
    "scalar = MinMaxScaler()\n",
    "X = scalar.fit_transform(X)"
   ]
  },
  {
   "cell_type": "code",
   "execution_count": 25,
   "metadata": {
    "id": "hzn7q2DVnqzA"
   },
   "outputs": [
    {
     "data": {
      "text/plain": [
       "array([1.47326508e-03, 2.07134638e-03, 4.94462025e-04, 6.90448792e-04,\n",
       "       2.96882731e-04, 2.68123627e-07, 1.48957253e-07, 2.08540440e-07,\n",
       "       9.12557846e-02, 4.27153082e-03, 7.27272727e-01, 7.69230769e-01,\n",
       "       5.19172291e-04, 8.00000000e-01, 9.09090909e-01, 0.00000000e+00,\n",
       "       2.50000000e-01, 1.00000000e-01, 3.47222222e-03, 2.07468880e-03,\n",
       "       1.10431532e-03, 0.00000000e+00, 0.00000000e+00, 0.00000000e+00,\n",
       "       0.00000000e+00, 0.00000000e+00, 2.32394366e-02, 1.01694008e-04,\n",
       "       6.40038290e-03, 1.79282482e-02, 0.00000000e+00, 4.48868072e-03,\n",
       "       2.35114065e-06, 4.39242884e-03, 6.34463988e-03, 0.00000000e+00,\n",
       "       6.44028103e-03, 7.93500059e-06, 6.67276896e-03, 1.25652435e-02,\n",
       "       2.53781600e-06, 9.90139164e-02, 1.47326507e-03, 1.33269458e-02,\n",
       "       4.90025604e-02, 1.02760777e-04, 5.03850658e-03, 1.08009851e-04,\n",
       "       3.37396838e-03, 3.21004955e-03, 1.75128716e-05, 9.90972805e-02,\n",
       "       1.47326507e-03, 3.38079903e-02, 6.11364446e-02, 2.68123706e-08,\n",
       "       1.08368453e-02, 9.88924249e-04, 4.86545568e-04, 4.70228145e-06,\n",
       "       0.00000000e+00, 0.00000000e+00, 0.00000000e+00, 0.00000000e+00,\n",
       "       0.00000000e+00, 0.00000000e+00, 7.30354136e-03, 2.69121630e-03,\n",
       "       7.74955278e-04, 5.21703111e-03, 0.00000000e+00, 9.90972805e-02,\n",
       "       9.90972805e-02, 1.41785143e-03, 9.90972805e-02, 0.00000000e+00,\n",
       "       9.80239567e-01, 4.09658961e-01, 7.66002899e-03, 0.00000000e+00,\n",
       "       1.00000000e+00, 0.00000000e+00, 0.00000000e+00, 0.00000000e+00,\n",
       "       0.00000000e+00, 0.00000000e+00, 0.00000000e+00, 1.00000000e+00,\n",
       "       0.00000000e+00, 0.00000000e+00, 0.00000000e+00, 0.00000000e+00])"
      ]
     },
     "execution_count": 25,
     "metadata": {},
     "output_type": "execute_result"
    }
   ],
   "source": [
    "X[0]"
   ]
  },
  {
   "cell_type": "markdown",
   "metadata": {
    "id": "z1mLZE6epRoU"
   },
   "source": [
    "# **Model Training and Evaluation**"
   ]
  },
  {
   "cell_type": "markdown",
   "metadata": {
    "id": "Bdgcr5eapZN7"
   },
   "source": [
    "## **Nonlinear SVM (ploy)**"
   ]
  },
  {
   "cell_type": "markdown",
   "metadata": {
    "id": "CoRdAkw0plwS"
   },
   "source": [
    "### **Functions**"
   ]
  },
  {
   "cell_type": "code",
   "execution_count": null,
   "metadata": {
    "id": "dmgYxpbxoYiu"
   },
   "outputs": [],
   "source": [
    "from sklearn.svm import SVC\n",
    "from sklearn.model_selection import train_test_split\n",
    "from sklearn.metrics import f1_score, accuracy_score\n",
    "\n",
    "def SVM_tune_C(X, y):\n",
    "  max_range = 100\n",
    "  values = np.array(range(5, max_range+1, 5))\n",
    "  itr_values = tqdm(values)\n",
    "  train_acc = []\n",
    "  test_acc = []\n",
    "  train_f1 = []\n",
    "  test_f1 = []\n",
    "  for i in itr_values:\n",
    "    train_acc_temp = []\n",
    "    test_acc_temp = []\n",
    "    train_f1_temp = []\n",
    "    test_f1_temp = []\n",
    "    for j in range(10):\n",
    "      X_train, X_test, y_train, y_test = train_test_split(X, y, test_size=0.20, stratify=y)\n",
    "      clf = SVC(C=i)\n",
    "      clf.fit(X_train, y_train)\n",
    "      y_train_pred = clf.predict(X_train)\n",
    "      y_test_pred = clf.predict(X_test)\n",
    "      train_acc_temp.append(accuracy_score(y_train, y_train_pred))\n",
    "      test_acc_temp.append(accuracy_score(y_test, y_test_pred))\n",
    "      train_f1_temp.append(f1_score(y_train, y_train_pred, average='macro'))\n",
    "      test_f1_temp.append(f1_score(y_test, y_test_pred, average='macro'))\n",
    "    train_acc.append(np.mean(train_acc_temp))\n",
    "    test_acc.append(np.mean(test_acc_temp))\n",
    "    train_f1.append(np.mean(train_f1_temp))\n",
    "    test_f1.append(np.mean(test_f1_temp))\n",
    "  return train_acc, test_acc, train_f1, test_f1, values\n",
    "\n",
    "\n",
    "\n",
    "def plot_train_test_acc_values(train, test, x, title):\n",
    "  plt.figure()\n",
    "  plt.plot(x, train, label='Train')\n",
    "  plt.plot(x, test, label='Test')\n",
    "  plt.title(f'Accuracy vs {title}')\n",
    "  plt.legend()\n",
    "  plt.xlabel(title)\n",
    "  plt.ylabel('Accuracy')\n",
    "  plt.show()\n",
    "\n",
    "def plot_train_test_f1_values(train, test, x, title):\n",
    "  plt.figure()\n",
    "  plt.plot(x, train, label='Train')\n",
    "  plt.plot(x, test, label='Test')\n",
    "  plt.title(f'F1-score vs {title}')\n",
    "  plt.legend()\n",
    "  plt.xlabel(title)\n",
    "  plt.ylabel('F1-score')\n",
    "  plt.show()"
   ]
  },
  {
   "cell_type": "markdown",
   "metadata": {
    "id": "aaY1yxeLxD57"
   },
   "source": [
    "### **Running Model for Experiment 1: Unbalanced model predicting all 10 classes**"
   ]
  },
  {
   "cell_type": "code",
   "execution_count": null,
   "metadata": {
    "colab": {
     "base_uri": "https://localhost:8080/"
    },
    "id": "wQjigQBjxDKu",
    "outputId": "18e331d1-54dd-4879-c41c-0e5535f8db90"
   },
   "outputs": [
    {
     "name": "stderr",
     "output_type": "stream",
     "text": [
      "100%|██████████| 20/20 [3:25:17<00:00, 615.86s/it]\n"
     ]
    }
   ],
   "source": [
    "# Test min_sample_split\n",
    "train_acc, test_acc, train_f1, test_f1, values = SVM_tune_C(X,y)"
   ]
  },
  {
   "cell_type": "code",
   "execution_count": null,
   "metadata": {
    "colab": {
     "base_uri": "https://localhost:8080/",
     "height": 472
    },
    "id": "ymYZE1ToktzF",
    "outputId": "972d140d-9972-4315-f40d-457359ecd7c6"
   },
   "outputs": [
    {
     "data": {
      "image/png": "[encoded data removed]",
      "text/plain": [
       "<Figure size 640x480 with 1 Axes>"
      ]
     },
     "metadata": {},
     "output_type": "display_data"
    }
   ],
   "source": [
    "# Plotting Accuracy against k\n",
    "plot_train_test_acc_values(train_acc, test_acc, values, 'C')"
   ]
  },
  {
   "cell_type": "code",
   "execution_count": null,
   "metadata": {
    "colab": {
     "base_uri": "https://localhost:8080/",
     "height": 472
    },
    "id": "9X8K22-ikwe-",
    "outputId": "2ab059d8-b882-45a7-9913-8b2c15b85fe9"
   },
   "outputs": [
    {
     "data": {
      "image/png": "[encoded data removed]",
      "text/plain": [
       "<Figure size 640x480 with 1 Axes>"
      ]
     },
     "metadata": {},
     "output_type": "display_data"
    }
   ],
   "source": [
    "# Plotting F1-score against k\n",
    "plot_train_test_f1_values(train_f1, test_f1, values, 'C')"
   ]
  },
  {
   "cell_type": "code",
   "execution_count": null,
   "metadata": {
    "colab": {
     "base_uri": "https://localhost:8080/"
    },
    "id": "ws6sMVs7LI89",
    "outputId": "c2fe2839-242b-4c99-ca91-4b7ce8526e5e"
   },
   "outputs": [
    {
     "data": {
      "text/plain": [
       "(0.994498395026614, 90)"
      ]
     },
     "execution_count": 31,
     "metadata": {},
     "output_type": "execute_result"
    }
   ],
   "source": [
    "# Find best deg\n",
    "np.max(test_acc), values[np.argmax(test_acc)]"
   ]
  },
  {
   "cell_type": "code",
   "execution_count": null,
   "metadata": {
    "colab": {
     "base_uri": "https://localhost:8080/"
    },
    "id": "jFrUOAuh6RdK",
    "outputId": "b25e9d36-3bc6-46af-c7f7-63ee84de3b89"
   },
   "outputs": [
    {
     "data": {
      "text/plain": [
       "(0.9655698634538943, 35)"
      ]
     },
     "execution_count": 32,
     "metadata": {},
     "output_type": "execute_result"
    }
   ],
   "source": [
    "# Find best deg\n",
    "np.max(test_f1), values[np.argmax(test_f1)]"
   ]
  },
  {
   "cell_type": "code",
   "execution_count": null,
   "metadata": {
    "colab": {
     "base_uri": "https://localhost:8080/"
    },
    "id": "zn3l7BBhLZzQ",
    "outputId": "a892cca3-55cb-4729-9bb0-dba67d747568"
   },
   "outputs": [
    {
     "data": {
      "text/plain": [
       "(0.994498395026614, 35)"
      ]
     },
     "execution_count": 33,
     "metadata": {},
     "output_type": "execute_result"
    }
   ],
   "source": [
    "# Find best deg\n",
    "np.max(test_acc), values[np.argmax(test_f1)]"
   ]
  },
  {
   "cell_type": "code",
   "execution_count": null,
   "metadata": {
    "colab": {
     "base_uri": "https://localhost:8080/"
    },
    "id": "fbWvjz_Ao_n-",
    "outputId": "e3b5020a-dde6-44b4-a83d-c5877470ccc9"
   },
   "outputs": [
    {
     "data": {
      "text/plain": [
       "[0.9905773840965424,\n",
       " 0.992312380642802,\n",
       " 0.9933403762545202,\n",
       " 0.9938198366584048,\n",
       " 0.9935801064564627,\n",
       " 0.9940717565316323,\n",
       " 0.9939336069237333,\n",
       " 0.993937670147495,\n",
       " 0.9941001990979643,\n",
       " 0.9938564056722605,\n",
       " 0.9941692739019139,\n",
       " 0.9944293202226646,\n",
       " 0.9939417333712566,\n",
       " 0.9940839462029174,\n",
       " 0.9942952338385276,\n",
       " 0.99413676811182,\n",
       " 0.9940676933078706,\n",
       " 0.994498395026614,\n",
       " 0.9943399292999067,\n",
       " 0.9940920726504408]"
      ]
     },
     "execution_count": 34,
     "metadata": {},
     "output_type": "execute_result"
    }
   ],
   "source": [
    "test_acc"
   ]
  },
  {
   "cell_type": "code",
   "execution_count": null,
   "metadata": {
    "colab": {
     "base_uri": "https://localhost:8080/"
    },
    "id": "Mhz47zK9pCsj",
    "outputId": "1411fe5b-0386-4c55-e137-7e0da445e371"
   },
   "outputs": [
    {
     "data": {
      "text/plain": [
       "[0.9533143359935501,\n",
       " 0.9582449739061774,\n",
       " 0.9619274180612735,\n",
       " 0.9602210100625275,\n",
       " 0.9579410289252097,\n",
       " 0.9646607057578933,\n",
       " 0.9655698634538943,\n",
       " 0.9606034790816282,\n",
       " 0.9631386789054386,\n",
       " 0.9607551204769449,\n",
       " 0.9615421620281165,\n",
       " 0.9625782546949944,\n",
       " 0.9593929693866258,\n",
       " 0.9609106217371185,\n",
       " 0.9619018343287008,\n",
       " 0.9616052389982718,\n",
       " 0.9587354998300157,\n",
       " 0.9645349206415629,\n",
       " 0.9630071180944076,\n",
       " 0.9606293444793172]"
      ]
     },
     "execution_count": 35,
     "metadata": {},
     "output_type": "execute_result"
    }
   ],
   "source": [
    "test_f1"
   ]
  },
  {
   "cell_type": "code",
   "execution_count": null,
   "metadata": {
    "colab": {
     "base_uri": "https://localhost:8080/"
    },
    "id": "9UIjZXCApFJW",
    "outputId": "d5491a84-64d0-431b-ce0a-c7529a250d97"
   },
   "outputs": [
    {
     "data": {
      "text/plain": [
       "array([  5,  10,  15,  20,  25,  30,  35,  40,  45,  50,  55,  60,  65,\n",
       "        70,  75,  80,  85,  90,  95, 100])"
      ]
     },
     "execution_count": 36,
     "metadata": {},
     "output_type": "execute_result"
    }
   ],
   "source": [
    "values"
   ]
  },
  {
   "cell_type": "code",
   "execution_count": 26,
   "metadata": {
    "id": "6Sx69TAEzygu"
   },
   "outputs": [],
   "source": [
    "from sklearn.svm import SVC\n",
    "from sklearn.model_selection import train_test_split\n",
    "from sklearn.metrics import f1_score, accuracy_score\n",
    "from sklearn.feature_selection import SelectPercentile\n",
    "\n",
    "def FindPercentile(X, y):\n",
    "  max_range = 100\n",
    "  values = np.array(range(5,max_range+1, 5))\n",
    "  itr_values = tqdm(values)\n",
    "  train_acc = []\n",
    "  test_acc = []\n",
    "  train_f1 = []\n",
    "  test_f1 = []\n",
    "  # num_of_nodes = []\n",
    "  for i in itr_values:\n",
    "    train_acc_temp = []\n",
    "    test_acc_temp = []\n",
    "    train_f1_temp = []\n",
    "    test_f1_temp = []\n",
    "    X_new = SelectPercentile(percentile=i).fit_transform(X,y)\n",
    "    # num_of_nodes_temp = []\n",
    "    for j in range(10):\n",
    "      X_train, X_test, y_train, y_test = train_test_split(X_new, y, test_size=0.20, stratify=y)\n",
    "      clf = SVC(C=35)\n",
    "      clf.fit(X_train, y_train)\n",
    "      y_train_pred = clf.predict(X_train)\n",
    "      y_test_pred = clf.predict(X_test)\n",
    "      train_acc_temp.append(accuracy_score(y_train, y_train_pred))\n",
    "      test_acc_temp.append(accuracy_score(y_test, y_test_pred))\n",
    "      train_f1_temp.append(f1_score(y_train, y_train_pred, average='macro'))\n",
    "      test_f1_temp.append(f1_score(y_test, y_test_pred, average='macro'))\n",
    "      # num_of_nodes_temp.append(clf.tree_.node_count)\n",
    "    train_acc.append(np.mean(train_acc_temp))\n",
    "    test_acc.append(np.mean(test_acc_temp))\n",
    "    train_f1.append(np.mean(train_f1_temp))\n",
    "    test_f1.append(np.mean(test_f1_temp))\n",
    "    # num_of_nodes.append(np.mean(num_of_nodes_temp))\n",
    "  return train_acc, test_acc, train_f1, test_f1, values"
   ]
  },
  {
   "cell_type": "code",
   "execution_count": 27,
   "metadata": {
    "id": "T6wgUghSz0fg"
   },
   "outputs": [],
   "source": [
    "import warnings\n",
    "\n",
    "# Ignore specific warnings\n",
    "warnings.filterwarnings(\"ignore\", message=\"Features .* are constant.\", category=UserWarning)\n",
    "warnings.filterwarnings(\"ignore\", message=\"invalid value encountered in divide\", category=RuntimeWarning)"
   ]
  },
  {
   "cell_type": "code",
   "execution_count": 28,
   "metadata": {
    "colab": {
     "base_uri": "https://localhost:8080/"
    },
    "id": "C7VPtFg-0jRS",
    "outputId": "a423feb2-0d2e-4fff-b3e2-639a07433270"
   },
   "outputs": [
    {
     "name": "stderr",
     "output_type": "stream",
     "text": [
      "100%|█████████████████████████████████████████████████████████████████████████████████| 20/20 [54:32<00:00, 163.62s/it]\n"
     ]
    }
   ],
   "source": [
    "# Find best percentile\n",
    "train_acc, test_acc, train_f1, test_f1, values = FindPercentile(X,y)"
   ]
  },
  {
   "cell_type": "code",
   "execution_count": 29,
   "metadata": {
    "id": "sCtxREBZ0qkv"
   },
   "outputs": [
    {
     "data": {
      "text/plain": [
       "<BarContainer object of 20 artists>"
      ]
     },
     "execution_count": 29,
     "metadata": {},
     "output_type": "execute_result"
    },
    {
     "data": {
      "image/png": "[encoded data removed]",
      "text/plain": [
       "<Figure size 640x480 with 1 Axes>"
      ]
     },
     "metadata": {},
     "output_type": "display_data"
    }
   ],
   "source": [
    "plt.bar(values, test_acc)"
   ]
  },
  {
   "cell_type": "code",
   "execution_count": 30,
   "metadata": {
    "id": "zmtoerVr0uCo"
   },
   "outputs": [
    {
     "data": {
      "text/plain": [
       "<BarContainer object of 20 artists>"
      ]
     },
     "execution_count": 30,
     "metadata": {},
     "output_type": "execute_result"
    },
    {
     "data": {
      "image/png": "[encoded data removed]",
      "text/plain": [
       "<Figure size 640x480 with 1 Axes>"
      ]
     },
     "metadata": {},
     "output_type": "display_data"
    }
   ],
   "source": [
    "plt.bar(values, test_f1)"
   ]
  },
  {
   "cell_type": "code",
   "execution_count": 31,
   "metadata": {
    "id": "bS82kujQ0uio"
   },
   "outputs": [
    {
     "name": "stdout",
     "output_type": "stream",
     "text": [
      "Max avg test_acc = 0.9940798829791557 at the 85th percentile\n",
      "Max avg test_f1 = 0.962845877283715 at the 90th percentile\n"
     ]
    }
   ],
   "source": [
    "print(f\"Max avg test_acc = {np.max(test_acc)} at the {values[np.argmax(test_acc)]}th percentile\")\n",
    "print(f\"Max avg test_f1 = {np.max(test_f1)} at the {values[np.argmax(test_f1)]}th percentile\")"
   ]
  },
  {
   "cell_type": "markdown",
   "metadata": {
    "id": "KOGH_ZOAX2WE"
   },
   "source": [
    "### **With Feature Selection**"
   ]
  },
  {
   "cell_type": "code",
   "execution_count": 33,
   "metadata": {
    "colab": {
     "base_uri": "https://localhost:8080/"
    },
    "id": "diXthyQ5TXoo",
    "outputId": "d7954fd5-50cb-415e-800f-29bcb620f003"
   },
   "outputs": [
    {
     "name": "stdout",
     "output_type": "stream",
     "text": [
      "              precision    recall  f1-score   support\n",
      "\n",
      "           0     0.9515    0.9742    0.9627      1550\n",
      "           1     0.9896    0.8879    0.9360       107\n",
      "           2     1.0000    1.0000    1.0000     18932\n",
      "           3     1.0000    0.9988    0.9994       829\n",
      "           4     0.9975    1.0000    0.9988       400\n",
      "           5     1.0000    1.0000    1.0000       200\n",
      "           6     0.9769    0.9807    0.9788       518\n",
      "           7     1.0000    1.0000    1.0000       402\n",
      "           8     0.9664    0.9581    0.9622      1622\n",
      "           9     1.0000    0.7255    0.8409        51\n",
      "\n",
      "    accuracy                         0.9941     24611\n",
      "   macro avg     0.9882    0.9525    0.9679     24611\n",
      "weighted avg     0.9942    0.9941    0.9941     24611\n",
      "\n",
      "Macro avg ROC AUC: 0.9957117546360615\n"
     ]
    }
   ],
   "source": [
    "from sklearn.svm import SVC\n",
    "from sklearn.model_selection import train_test_split\n",
    "from sklearn.metrics import classification_report, f1_score, accuracy_score, precision_score, recall_score, roc_auc_score\n",
    "from sklearn.feature_selection import SelectPercentile\n",
    "\n",
    "\n",
    "X_new = SelectPercentile(percentile=90).fit_transform(X,y)\n",
    "X_train, X_test, y_train, y_test = train_test_split(X_new, y, test_size=0.20, stratify=y)\n",
    "clf_optimal = SVC(C = 35, probability=True)\n",
    "clf_optimal.fit(X_train, y_train)\n",
    "y_train_pred = clf_optimal.predict(X_train)\n",
    "y_test_pred = clf_optimal.predict(X_test)\n",
    "report = classification_report(y_test, y_test_pred, digits=4)\n",
    "print(report)\n",
    "y_test_pred_proba = clf_optimal.predict_proba(X_test)\n",
    "auc = roc_auc_score(y_test, y_test_pred_proba, multi_class='ovr')\n",
    "print(f\"Macro avg ROC AUC: {auc}\")"
   ]
  },
  {
   "cell_type": "code",
   "execution_count": 34,
   "metadata": {
    "colab": {
     "base_uri": "https://localhost:8080/",
     "height": 676
    },
    "id": "nekwubR0Ved3",
    "outputId": "0bd36b92-5e60-46b0-fdb3-43b2f90d32f9"
   },
   "outputs": [
    {
     "data": {
      "image/png": "[encoded data removed]",
      "text/plain": [
       "<Figure size 1000x800 with 2 Axes>"
      ]
     },
     "metadata": {},
     "output_type": "display_data"
    }
   ],
   "source": [
    "from sklearn.metrics import confusion_matrix\n",
    "from seaborn import heatmap\n",
    "\n",
    "cm = confusion_matrix(y_test, y_test_pred)\n",
    "plt.figure(figsize=(10,8))\n",
    "heatmap(cm, cmap='Blues', annot=True)\n",
    "plt.show()"
   ]
  },
  {
   "cell_type": "code",
   "execution_count": 35,
   "metadata": {
    "colab": {
     "base_uri": "https://localhost:8080/"
    },
    "id": "vk--j580Vv8e",
    "outputId": "879cd229-169d-46c5-e164-4cbee5cfb273"
   },
   "outputs": [
    {
     "data": {
      "text/plain": [
       "array(['ARP_poisioning', 'DDOS_Slowloris', 'DOS_SYN_Hping',\n",
       "       'MQTT_Publish', 'NMAP_OS_DETECTION', 'NMAP_TCP_scan',\n",
       "       'NMAP_UDP_SCAN', 'NMAP_XMAS_TREE_SCAN', 'Thing_Speak',\n",
       "       'Wipro_bulb'], dtype=object)"
      ]
     },
     "execution_count": 35,
     "metadata": {},
     "output_type": "execute_result"
    }
   ],
   "source": [
    "labelenc.classes_"
   ]
  },
  {
   "cell_type": "code",
   "execution_count": 36,
   "metadata": {
    "colab": {
     "base_uri": "https://localhost:8080/",
     "height": 837
    },
    "id": "_5ShYNJIV-sO",
    "outputId": "ee73764d-85c5-42a5-a49a-ef4e7c325e57"
   },
   "outputs": [
    {
     "data": {
      "image/png": "[encoded data removed]",
      "text/plain": [
       "<Figure size 1000x800 with 2 Axes>"
      ]
     },
     "metadata": {},
     "output_type": "display_data"
    }
   ],
   "source": [
    "df_cm = pd.DataFrame(cm)\n",
    "df_cm.columns = labelenc.classes_\n",
    "df_cm = df_cm.set_index(labelenc.classes_)\n",
    "plt.figure(figsize=(10,8))\n",
    "heatmap(df_cm, cmap='Blues', annot=True)\n",
    "# plt.title('Confusion Matrix for unbalanced data')\n",
    "plt.show()"
   ]
  },
  {
   "cell_type": "markdown",
   "metadata": {
    "id": "TtrKXNqDcP4F"
   },
   "source": [
    "### **Without Feature Selection**"
   ]
  },
  {
   "cell_type": "code",
   "execution_count": 38,
   "metadata": {
    "colab": {
     "base_uri": "https://localhost:8080/"
    },
    "id": "hAMfmmAccP4Q",
    "outputId": "3b544b96-5e4f-47b3-fa90-81fb9459f056"
   },
   "outputs": [
    {
     "name": "stdout",
     "output_type": "stream",
     "text": [
      "              precision    recall  f1-score   support\n",
      "\n",
      "           0     0.9547    0.9781    0.9662      1550\n",
      "           1     1.0000    0.8037    0.8912       107\n",
      "           2     1.0000    1.0000    1.0000     18932\n",
      "           3     1.0000    0.9976    0.9988       829\n",
      "           4     1.0000    1.0000    1.0000       400\n",
      "           5     0.9901    1.0000    0.9950       200\n",
      "           6     0.9658    0.9826    0.9742       518\n",
      "           7     1.0000    1.0000    1.0000       402\n",
      "           8     0.9708    0.9618    0.9662      1622\n",
      "           9     0.9750    0.7647    0.8571        51\n",
      "\n",
      "    accuracy                         0.9943     24611\n",
      "   macro avg     0.9856    0.9488    0.9649     24611\n",
      "weighted avg     0.9944    0.9943    0.9943     24611\n",
      "\n",
      "Macro avg ROC AUC: 0.9953774203927406\n"
     ]
    }
   ],
   "source": [
    "from sklearn.svm import SVC\n",
    "from sklearn.model_selection import train_test_split\n",
    "from sklearn.metrics import classification_report, f1_score, accuracy_score, precision_score, recall_score, roc_auc_score\n",
    "from sklearn.feature_selection import SelectPercentile\n",
    "\n",
    "\n",
    "# X_new = SelectPercentile(percentile=75).fit_transform(X,y)\n",
    "X_train, X_test, y_train, y_test = train_test_split(X, y, test_size=0.20, stratify=y)\n",
    "clf_optimal = SVC(C=35, probability=True)\n",
    "clf_optimal.fit(X_train, y_train)\n",
    "y_train_pred = clf_optimal.predict(X_train)\n",
    "y_test_pred = clf_optimal.predict(X_test)\n",
    "report = classification_report(y_test, y_test_pred, digits=4)\n",
    "print(report)\n",
    "y_test_pred_proba = clf_optimal.predict_proba(X_test)\n",
    "auc = roc_auc_score(y_test, y_test_pred_proba, multi_class='ovr')\n",
    "print(f\"Macro avg ROC AUC: {auc}\")"
   ]
  },
  {
   "cell_type": "code",
   "execution_count": 39,
   "metadata": {
    "colab": {
     "base_uri": "https://localhost:8080/",
     "height": 676
    },
    "id": "rmS-WtKJcP4R",
    "outputId": "686a4fd3-f382-467d-fef4-8cf292219864"
   },
   "outputs": [
    {
     "data": {
      "image/png": "[encoded data removed]",
      "text/plain": [
       "<Figure size 1000x800 with 2 Axes>"
      ]
     },
     "metadata": {},
     "output_type": "display_data"
    }
   ],
   "source": [
    "from sklearn.metrics import confusion_matrix\n",
    "from seaborn import heatmap\n",
    "\n",
    "cm = confusion_matrix(y_test, y_test_pred)\n",
    "plt.figure(figsize=(10,8))\n",
    "heatmap(cm, cmap='Blues', annot=True)\n",
    "plt.show()"
   ]
  },
  {
   "cell_type": "code",
   "execution_count": 40,
   "metadata": {
    "colab": {
     "base_uri": "https://localhost:8080/"
    },
    "id": "OwjrVe53cP4S",
    "outputId": "6c326d90-f2db-4ea1-d98a-955ff22f6d11"
   },
   "outputs": [
    {
     "data": {
      "text/plain": [
       "array(['ARP_poisioning', 'DDOS_Slowloris', 'DOS_SYN_Hping',\n",
       "       'MQTT_Publish', 'NMAP_OS_DETECTION', 'NMAP_TCP_scan',\n",
       "       'NMAP_UDP_SCAN', 'NMAP_XMAS_TREE_SCAN', 'Thing_Speak',\n",
       "       'Wipro_bulb'], dtype=object)"
      ]
     },
     "execution_count": 40,
     "metadata": {},
     "output_type": "execute_result"
    }
   ],
   "source": [
    "labelenc.classes_"
   ]
  },
  {
   "cell_type": "code",
   "execution_count": 41,
   "metadata": {
    "colab": {
     "base_uri": "https://localhost:8080/",
     "height": 837
    },
    "id": "cFuvWx19cP4S",
    "outputId": "a6f5aafc-eaf5-4bc7-f4bf-13f1eddbe18c"
   },
   "outputs": [
    {
     "data": {
      "image/png": "[encoded data removed]",
      "text/plain": [
       "<Figure size 1000x800 with 2 Axes>"
      ]
     },
     "metadata": {},
     "output_type": "display_data"
    }
   ],
   "source": [
    "df_cm = pd.DataFrame(cm)\n",
    "df_cm.columns = labelenc.classes_\n",
    "df_cm = df_cm.set_index(labelenc.classes_)\n",
    "plt.figure(figsize=(10,8))\n",
    "heatmap(df_cm, cmap='Blues', annot=True)\n",
    "# plt.title('Confusion Matrix for unbalanced data')\n",
    "plt.show()"
   ]
  },
  {
   "cell_type": "code",
   "execution_count": null,
   "metadata": {},
   "outputs": [],
   "source": []
  }
 ],
 "metadata": {
  "colab": {
   "collapsed_sections": [
    "DKAEoPaYbmgQ",
    "udPOZwAab6m0",
    "kovMsHtqdWzv",
    "8T04BAubi3Mn",
    "xsyqzX97kwTH",
    "YU13rCe4lPKg",
    "KOGH_ZOAX2WE"
   ],
   "provenance": []
  },
  "kernelspec": {
   "display_name": "Python 3 (ipykernel)",
   "language": "python",
   "name": "python3"
  },
  "language_info": {
   "codemirror_mode": {
    "name": "ipython",
    "version": 3
   },
   "file_extension": ".py",
   "mimetype": "text/x-python",
   "name": "python",
   "nbconvert_exporter": "python",
   "pygments_lexer": "ipython3",
   "version": "3.11.5"
  }
 },
 "nbformat": 4,
 "nbformat_minor": 4
}
