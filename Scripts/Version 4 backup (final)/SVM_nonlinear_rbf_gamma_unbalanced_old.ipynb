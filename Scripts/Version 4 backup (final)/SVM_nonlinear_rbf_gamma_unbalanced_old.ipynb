{
 "cells": [
  {
   "cell_type": "markdown",
   "metadata": {
    "id": "DKAEoPaYbmgQ",
    "jp-MarkdownHeadingCollapsed": true
   },
   "source": [
    "# **General Imports**"
   ]
  },
  {
   "cell_type": "code",
   "execution_count": 1,
   "metadata": {
    "colab": {
     "base_uri": "https://localhost:8080/"
    },
    "id": "SbsH7CP4cYf2",
    "outputId": "4668fbec-eb3c-4fe7-b62c-7b1b522c2f55"
   },
   "outputs": [
    {
     "name": "stdout",
     "output_type": "stream",
     "text": [
      "Requirement already satisfied: ucimlrepo in c:\\users\\admin\\anaconda3\\lib\\site-packages (0.0.6)\n",
      "Requirement already satisfied: scikit-learn-intelex in c:\\users\\admin\\anaconda3\\lib\\site-packages (20230426.121932)\n",
      "Requirement already satisfied: daal4py>=2021.2 in c:\\users\\admin\\anaconda3\\lib\\site-packages (from scikit-learn-intelex) (2023.1.1)\n",
      "Requirement already satisfied: scikit-learn>=0.24 in c:\\users\\admin\\anaconda3\\lib\\site-packages (from scikit-learn-intelex) (1.2.2)\n",
      "Requirement already satisfied: numpy>=1.23.5 in c:\\users\\admin\\anaconda3\\lib\\site-packages (from daal4py>=2021.2->scikit-learn-intelex) (1.23.5)\n",
      "Requirement already satisfied: scipy>=1.3.2 in c:\\users\\admin\\anaconda3\\lib\\site-packages (from scikit-learn>=0.24->scikit-learn-intelex) (1.11.4)\n",
      "Requirement already satisfied: joblib>=1.1.1 in c:\\users\\admin\\anaconda3\\lib\\site-packages (from scikit-learn>=0.24->scikit-learn-intelex) (1.2.0)\n",
      "Requirement already satisfied: threadpoolctl>=2.0.0 in c:\\users\\admin\\anaconda3\\lib\\site-packages (from scikit-learn>=0.24->scikit-learn-intelex) (2.2.0)\n"
     ]
    }
   ],
   "source": [
    "!pip install ucimlrepo\n",
    "!pip install scikit-learn-intelex"
   ]
  },
  {
   "cell_type": "code",
   "execution_count": 2,
   "metadata": {
    "id": "ThfCWS5nbhzK"
   },
   "outputs": [],
   "source": [
    "import numpy as np\n",
    "import pandas as pd\n",
    "import matplotlib.pyplot as plt\n",
    "from ucimlrepo import fetch_ucirepo\n",
    "from tqdm import tqdm"
   ]
  },
  {
   "cell_type": "code",
   "execution_count": 3,
   "metadata": {},
   "outputs": [
    {
     "name": "stderr",
     "output_type": "stream",
     "text": [
      "Intel(R) Extension for Scikit-learn* enabled (https://github.com/intel/scikit-learn-intelex)\n"
     ]
    }
   ],
   "source": [
    "from sklearnex import patch_sklearn\n",
    "\n",
    "patch_sklearn()"
   ]
  },
  {
   "cell_type": "markdown",
   "metadata": {
    "id": "udPOZwAab6m0",
    "jp-MarkdownHeadingCollapsed": true
   },
   "source": [
    "# **Data Preprocessing**"
   ]
  },
  {
   "cell_type": "markdown",
   "metadata": {
    "id": "N7fJ9C0ab-1-"
   },
   "source": [
    "## **Getting Data**"
   ]
  },
  {
   "cell_type": "code",
   "execution_count": 4,
   "metadata": {
    "colab": {
     "base_uri": "https://localhost:8080/"
    },
    "id": "GL8enDhSb9l_",
    "outputId": "3455002f-671a-459d-ff0c-bda4e9adb58c"
   },
   "outputs": [
    {
     "name": "stdout",
     "output_type": "stream",
     "text": [
      "{'uci_id': 942, 'name': 'RT-IoT2022 ', 'repository_url': 'https://archive.ics.uci.edu/dataset/942/rt-iot2022', 'data_url': 'https://archive.ics.uci.edu/static/public/942/data.csv', 'abstract': 'The RT-IoT2022, a proprietary dataset derived from a real-time IoT infrastructure, is introduced as a comprehensive resource integrating a diverse range of IoT devices and sophisticated network attack methodologies. This dataset encompasses both normal and adversarial network behaviours, providing a general representation of real-world scenarios.\\nIncorporating data from IoT devices such as ThingSpeak-LED, Wipro-Bulb, and MQTT-Temp, as well as simulated attack scenarios involving Brute-Force SSH attacks, DDoS attacks using Hping and Slowloris, and Nmap patterns, RT-IoT2022 offers a detailed perspective on the complex nature of network traffic. The bidirectional attributes of network traffic are meticulously captured using the Zeek network monitoring tool and the Flowmeter plugin. Researchers can leverage the RT-IoT2022 dataset to advance the capabilities of Intrusion Detection Systems (IDS), fostering the development of robust and adaptive security solutions for real-time IoT networks. ', 'area': 'Engineering', 'tasks': ['Classification', 'Regression', 'Clustering'], 'characteristics': ['Tabular', 'Sequential', 'Multivariate'], 'num_instances': 123117, 'num_features': 83, 'feature_types': ['Real', 'Categorical'], 'demographics': [], 'target_col': ['Attack_type'], 'index_col': ['id'], 'has_missing_values': 'no', 'missing_values_symbol': None, 'year_of_dataset_creation': 2023, 'last_updated': 'Fri Mar 08 2024', 'dataset_doi': '10.24432/C5P338', 'creators': ['B. S.', 'Rohini Nagapadma'], 'intro_paper': {'title': 'Quantized autoencoder (QAE) intrusion detection system for anomaly detection in resource-constrained IoT devices using RT-IoT2022 dataset', 'authors': 'B. S. Sharmila, Rohini Nagapadma', 'published_in': 'Cybersecurity', 'year': 2023, 'url': 'https://www.semanticscholar.org/paper/753f6ede01b4acaa325e302c38f1e0c1ade74f5b', 'doi': None}, 'additional_info': {'summary': None, 'purpose': None, 'funded_by': None, 'instances_represent': None, 'recommended_data_splits': None, 'sensitive_data': None, 'preprocessing_description': None, 'variable_info': 'Column Details:\\nid.orig_p\\nid.resp_p\\nproto\\nservice\\nflow_duration\\nfwd_pkts_tot\\nbwd_pkts_tot\\nfwd_data_pkts_tot\\nbwd_data_pkts_tot\\nfwd_pkts_per_sec\\nbwd_pkts_per_sec\\nflow_pkts_per_sec\\ndown_up_ratio\\nfwd_header_size_tot\\nfwd_header_size_min\\nfwd_header_size_max\\nbwd_header_size_tot\\nbwd_header_size_min\\nbwd_header_size_max\\nflow_FIN_flag_count\\nflow_SYN_flag_count\\nflow_RST_flag_count\\nfwd_PSH_flag_count\\nbwd_PSH_flag_count\\nflow_ACK_flag_count\\nfwd_URG_flag_count\\nbwd_URG_flag_count\\nflow_CWR_flag_count\\nflow_ECE_flag_count\\nfwd_pkts_payload.min\\nfwd_pkts_payload.max\\nfwd_pkts_payload.tot\\nfwd_pkts_payload.avg\\nfwd_pkts_payload.std\\nbwd_pkts_payload.min\\nbwd_pkts_payload.max\\nbwd_pkts_payload.tot\\nbwd_pkts_payload.avg\\nbwd_pkts_payload.std\\nflow_pkts_payload.min\\nflow_pkts_payload.max\\nflow_pkts_payload.tot\\nflow_pkts_payload.avg\\nflow_pkts_payload.std\\nfwd_iat.min\\nfwd_iat.max\\nfwd_iat.tot\\nfwd_iat.avg\\nfwd_iat.std\\nbwd_iat.min\\nbwd_iat.max\\nbwd_iat.tot\\nbwd_iat.avg\\nbwd_iat.std\\nflow_iat.min\\nflow_iat.max\\nflow_iat.tot\\nflow_iat.avg\\nflow_iat.std\\npayload_bytes_per_second\\nfwd_subflow_pkts\\nbwd_subflow_pkts\\nfwd_subflow_bytes\\nbwd_subflow_bytes\\nfwd_bulk_bytes\\nbwd_bulk_bytes\\nfwd_bulk_packets\\nbwd_bulk_packets\\nfwd_bulk_rate\\nbwd_bulk_rate\\nactive.min\\nactive.max\\nactive.tot\\nactive.avg\\nactive.std\\nidle.min\\nidle.max\\nidle.tot\\nidle.avg\\nidle.std\\nfwd_init_window_size\\nbwd_init_window_size\\nfwd_last_window_size\\nAttack_type', 'citation': None}}\n",
      "                    name     role         type demographic description units  \\\n",
      "0              id.orig_p  Feature      Integer        None        None  None   \n",
      "1              id.resp_p  Feature      Integer        None        None  None   \n",
      "2                  proto  Feature  Categorical        None        None  None   \n",
      "3                service  Feature   Continuous        None        None  None   \n",
      "4          flow_duration  Feature   Continuous        None        None  None   \n",
      "..                   ...      ...          ...         ...         ...   ...   \n",
      "80  fwd_init_window_size  Feature      Integer        None        None  None   \n",
      "81  bwd_init_window_size  Feature      Integer        None        None  None   \n",
      "82  fwd_last_window_size  Feature      Integer        None        None  None   \n",
      "83           Attack_type   Target  Categorical        None        None  None   \n",
      "84                    id       ID      Integer        None        None  None   \n",
      "\n",
      "   missing_values  \n",
      "0              no  \n",
      "1              no  \n",
      "2              no  \n",
      "3              no  \n",
      "4              no  \n",
      "..            ...  \n",
      "80             no  \n",
      "81             no  \n",
      "82             no  \n",
      "83             no  \n",
      "84             no  \n",
      "\n",
      "[85 rows x 7 columns]\n"
     ]
    }
   ],
   "source": [
    "# fetch dataset\n",
    "rt_iot2022 = fetch_ucirepo(id=942)\n",
    "\n",
    "# data (as pandas dataframes)\n",
    "X = rt_iot2022.data.features\n",
    "y = rt_iot2022.data.targets\n",
    "\n",
    "# metadata\n",
    "print(rt_iot2022.metadata)\n",
    "\n",
    "# variable information\n",
    "print(rt_iot2022.variables)"
   ]
  },
  {
   "cell_type": "markdown",
   "metadata": {
    "id": "LAZJbFdwc5iR"
   },
   "source": [
    "## **Encoding Qualitative Data**"
   ]
  },
  {
   "cell_type": "markdown",
   "metadata": {
    "id": "kovMsHtqdWzv"
   },
   "source": [
    "### **OneHot Encoding**"
   ]
  },
  {
   "cell_type": "code",
   "execution_count": 5,
   "metadata": {
    "colab": {
     "base_uri": "https://localhost:8080/",
     "height": 0
    },
    "id": "RFPfmF1tclFu",
    "outputId": "0079784e-8d01-482d-e63f-da68028cc732"
   },
   "outputs": [
    {
     "data": {
      "text/html": [
       "<div>\n",
       "<style scoped>\n",
       "    .dataframe tbody tr th:only-of-type {\n",
       "        vertical-align: middle;\n",
       "    }\n",
       "\n",
       "    .dataframe tbody tr th {\n",
       "        vertical-align: top;\n",
       "    }\n",
       "\n",
       "    .dataframe thead th {\n",
       "        text-align: right;\n",
       "    }\n",
       "</style>\n",
       "<table border=\"1\" class=\"dataframe\">\n",
       "  <thead>\n",
       "    <tr style=\"text-align: right;\">\n",
       "      <th></th>\n",
       "      <th>id.orig_p</th>\n",
       "      <th>id.resp_p</th>\n",
       "      <th>proto</th>\n",
       "      <th>service</th>\n",
       "      <th>flow_duration</th>\n",
       "      <th>fwd_pkts_tot</th>\n",
       "      <th>bwd_pkts_tot</th>\n",
       "      <th>fwd_data_pkts_tot</th>\n",
       "      <th>bwd_data_pkts_tot</th>\n",
       "      <th>fwd_pkts_per_sec</th>\n",
       "      <th>...</th>\n",
       "      <th>active.avg</th>\n",
       "      <th>active.std</th>\n",
       "      <th>idle.min</th>\n",
       "      <th>idle.max</th>\n",
       "      <th>idle.tot</th>\n",
       "      <th>idle.avg</th>\n",
       "      <th>idle.std</th>\n",
       "      <th>fwd_init_window_size</th>\n",
       "      <th>bwd_init_window_size</th>\n",
       "      <th>fwd_last_window_size</th>\n",
       "    </tr>\n",
       "  </thead>\n",
       "  <tbody>\n",
       "    <tr>\n",
       "      <th>0</th>\n",
       "      <td>38667</td>\n",
       "      <td>1883</td>\n",
       "      <td>tcp</td>\n",
       "      <td>mqtt</td>\n",
       "      <td>32.011598</td>\n",
       "      <td>9</td>\n",
       "      <td>5</td>\n",
       "      <td>3</td>\n",
       "      <td>3</td>\n",
       "      <td>0.281148</td>\n",
       "      <td>...</td>\n",
       "      <td>2.282415e+06</td>\n",
       "      <td>0.0</td>\n",
       "      <td>29729182.96</td>\n",
       "      <td>29729182.96</td>\n",
       "      <td>29729182.96</td>\n",
       "      <td>29729182.96</td>\n",
       "      <td>0.0</td>\n",
       "      <td>64240</td>\n",
       "      <td>26847</td>\n",
       "      <td>502</td>\n",
       "    </tr>\n",
       "    <tr>\n",
       "      <th>1</th>\n",
       "      <td>51143</td>\n",
       "      <td>1883</td>\n",
       "      <td>tcp</td>\n",
       "      <td>mqtt</td>\n",
       "      <td>31.883584</td>\n",
       "      <td>9</td>\n",
       "      <td>5</td>\n",
       "      <td>3</td>\n",
       "      <td>3</td>\n",
       "      <td>0.282277</td>\n",
       "      <td>...</td>\n",
       "      <td>2.028307e+06</td>\n",
       "      <td>0.0</td>\n",
       "      <td>29855277.06</td>\n",
       "      <td>29855277.06</td>\n",
       "      <td>29855277.06</td>\n",
       "      <td>29855277.06</td>\n",
       "      <td>0.0</td>\n",
       "      <td>64240</td>\n",
       "      <td>26847</td>\n",
       "      <td>502</td>\n",
       "    </tr>\n",
       "    <tr>\n",
       "      <th>2</th>\n",
       "      <td>44761</td>\n",
       "      <td>1883</td>\n",
       "      <td>tcp</td>\n",
       "      <td>mqtt</td>\n",
       "      <td>32.124053</td>\n",
       "      <td>9</td>\n",
       "      <td>5</td>\n",
       "      <td>3</td>\n",
       "      <td>3</td>\n",
       "      <td>0.280164</td>\n",
       "      <td>...</td>\n",
       "      <td>2.281904e+06</td>\n",
       "      <td>0.0</td>\n",
       "      <td>29842149.02</td>\n",
       "      <td>29842149.02</td>\n",
       "      <td>29842149.02</td>\n",
       "      <td>29842149.02</td>\n",
       "      <td>0.0</td>\n",
       "      <td>64240</td>\n",
       "      <td>26847</td>\n",
       "      <td>502</td>\n",
       "    </tr>\n",
       "    <tr>\n",
       "      <th>3</th>\n",
       "      <td>60893</td>\n",
       "      <td>1883</td>\n",
       "      <td>tcp</td>\n",
       "      <td>mqtt</td>\n",
       "      <td>31.961063</td>\n",
       "      <td>9</td>\n",
       "      <td>5</td>\n",
       "      <td>3</td>\n",
       "      <td>3</td>\n",
       "      <td>0.281593</td>\n",
       "      <td>...</td>\n",
       "      <td>2.047288e+06</td>\n",
       "      <td>0.0</td>\n",
       "      <td>29913774.97</td>\n",
       "      <td>29913774.97</td>\n",
       "      <td>29913774.97</td>\n",
       "      <td>29913774.97</td>\n",
       "      <td>0.0</td>\n",
       "      <td>64240</td>\n",
       "      <td>26847</td>\n",
       "      <td>502</td>\n",
       "    </tr>\n",
       "    <tr>\n",
       "      <th>4</th>\n",
       "      <td>51087</td>\n",
       "      <td>1883</td>\n",
       "      <td>tcp</td>\n",
       "      <td>mqtt</td>\n",
       "      <td>31.902362</td>\n",
       "      <td>9</td>\n",
       "      <td>5</td>\n",
       "      <td>3</td>\n",
       "      <td>3</td>\n",
       "      <td>0.282111</td>\n",
       "      <td>...</td>\n",
       "      <td>2.087657e+06</td>\n",
       "      <td>0.0</td>\n",
       "      <td>29814704.90</td>\n",
       "      <td>29814704.90</td>\n",
       "      <td>29814704.90</td>\n",
       "      <td>29814704.90</td>\n",
       "      <td>0.0</td>\n",
       "      <td>64240</td>\n",
       "      <td>26847</td>\n",
       "      <td>502</td>\n",
       "    </tr>\n",
       "    <tr>\n",
       "      <th>...</th>\n",
       "      <td>...</td>\n",
       "      <td>...</td>\n",
       "      <td>...</td>\n",
       "      <td>...</td>\n",
       "      <td>...</td>\n",
       "      <td>...</td>\n",
       "      <td>...</td>\n",
       "      <td>...</td>\n",
       "      <td>...</td>\n",
       "      <td>...</td>\n",
       "      <td>...</td>\n",
       "      <td>...</td>\n",
       "      <td>...</td>\n",
       "      <td>...</td>\n",
       "      <td>...</td>\n",
       "      <td>...</td>\n",
       "      <td>...</td>\n",
       "      <td>...</td>\n",
       "      <td>...</td>\n",
       "      <td>...</td>\n",
       "      <td>...</td>\n",
       "    </tr>\n",
       "    <tr>\n",
       "      <th>123112</th>\n",
       "      <td>59247</td>\n",
       "      <td>63331</td>\n",
       "      <td>tcp</td>\n",
       "      <td>-</td>\n",
       "      <td>0.000006</td>\n",
       "      <td>1</td>\n",
       "      <td>1</td>\n",
       "      <td>0</td>\n",
       "      <td>0</td>\n",
       "      <td>167772.160000</td>\n",
       "      <td>...</td>\n",
       "      <td>5.960464e+00</td>\n",
       "      <td>0.0</td>\n",
       "      <td>0.00</td>\n",
       "      <td>0.00</td>\n",
       "      <td>0.00</td>\n",
       "      <td>0.00</td>\n",
       "      <td>0.0</td>\n",
       "      <td>1024</td>\n",
       "      <td>0</td>\n",
       "      <td>1024</td>\n",
       "    </tr>\n",
       "    <tr>\n",
       "      <th>123113</th>\n",
       "      <td>59247</td>\n",
       "      <td>64623</td>\n",
       "      <td>tcp</td>\n",
       "      <td>-</td>\n",
       "      <td>0.000007</td>\n",
       "      <td>1</td>\n",
       "      <td>1</td>\n",
       "      <td>0</td>\n",
       "      <td>0</td>\n",
       "      <td>144631.172400</td>\n",
       "      <td>...</td>\n",
       "      <td>6.914139e+00</td>\n",
       "      <td>0.0</td>\n",
       "      <td>0.00</td>\n",
       "      <td>0.00</td>\n",
       "      <td>0.00</td>\n",
       "      <td>0.00</td>\n",
       "      <td>0.0</td>\n",
       "      <td>1024</td>\n",
       "      <td>0</td>\n",
       "      <td>1024</td>\n",
       "    </tr>\n",
       "    <tr>\n",
       "      <th>123114</th>\n",
       "      <td>59247</td>\n",
       "      <td>64680</td>\n",
       "      <td>tcp</td>\n",
       "      <td>-</td>\n",
       "      <td>0.000006</td>\n",
       "      <td>1</td>\n",
       "      <td>1</td>\n",
       "      <td>0</td>\n",
       "      <td>0</td>\n",
       "      <td>167772.160000</td>\n",
       "      <td>...</td>\n",
       "      <td>5.960464e+00</td>\n",
       "      <td>0.0</td>\n",
       "      <td>0.00</td>\n",
       "      <td>0.00</td>\n",
       "      <td>0.00</td>\n",
       "      <td>0.00</td>\n",
       "      <td>0.0</td>\n",
       "      <td>1024</td>\n",
       "      <td>0</td>\n",
       "      <td>1024</td>\n",
       "    </tr>\n",
       "    <tr>\n",
       "      <th>123115</th>\n",
       "      <td>59247</td>\n",
       "      <td>65000</td>\n",
       "      <td>tcp</td>\n",
       "      <td>-</td>\n",
       "      <td>0.000006</td>\n",
       "      <td>1</td>\n",
       "      <td>1</td>\n",
       "      <td>0</td>\n",
       "      <td>0</td>\n",
       "      <td>167772.160000</td>\n",
       "      <td>...</td>\n",
       "      <td>5.960464e+00</td>\n",
       "      <td>0.0</td>\n",
       "      <td>0.00</td>\n",
       "      <td>0.00</td>\n",
       "      <td>0.00</td>\n",
       "      <td>0.00</td>\n",
       "      <td>0.0</td>\n",
       "      <td>1024</td>\n",
       "      <td>0</td>\n",
       "      <td>1024</td>\n",
       "    </tr>\n",
       "    <tr>\n",
       "      <th>123116</th>\n",
       "      <td>59247</td>\n",
       "      <td>65129</td>\n",
       "      <td>tcp</td>\n",
       "      <td>-</td>\n",
       "      <td>0.000006</td>\n",
       "      <td>1</td>\n",
       "      <td>1</td>\n",
       "      <td>0</td>\n",
       "      <td>0</td>\n",
       "      <td>167772.160000</td>\n",
       "      <td>...</td>\n",
       "      <td>5.960464e+00</td>\n",
       "      <td>0.0</td>\n",
       "      <td>0.00</td>\n",
       "      <td>0.00</td>\n",
       "      <td>0.00</td>\n",
       "      <td>0.00</td>\n",
       "      <td>0.0</td>\n",
       "      <td>1024</td>\n",
       "      <td>0</td>\n",
       "      <td>1024</td>\n",
       "    </tr>\n",
       "  </tbody>\n",
       "</table>\n",
       "<p>123117 rows × 83 columns</p>\n",
       "</div>"
      ],
      "text/plain": [
       "        id.orig_p  id.resp_p proto service  flow_duration  fwd_pkts_tot  \\\n",
       "0           38667       1883   tcp    mqtt      32.011598             9   \n",
       "1           51143       1883   tcp    mqtt      31.883584             9   \n",
       "2           44761       1883   tcp    mqtt      32.124053             9   \n",
       "3           60893       1883   tcp    mqtt      31.961063             9   \n",
       "4           51087       1883   tcp    mqtt      31.902362             9   \n",
       "...           ...        ...   ...     ...            ...           ...   \n",
       "123112      59247      63331   tcp       -       0.000006             1   \n",
       "123113      59247      64623   tcp       -       0.000007             1   \n",
       "123114      59247      64680   tcp       -       0.000006             1   \n",
       "123115      59247      65000   tcp       -       0.000006             1   \n",
       "123116      59247      65129   tcp       -       0.000006             1   \n",
       "\n",
       "        bwd_pkts_tot  fwd_data_pkts_tot  bwd_data_pkts_tot  fwd_pkts_per_sec  \\\n",
       "0                  5                  3                  3          0.281148   \n",
       "1                  5                  3                  3          0.282277   \n",
       "2                  5                  3                  3          0.280164   \n",
       "3                  5                  3                  3          0.281593   \n",
       "4                  5                  3                  3          0.282111   \n",
       "...              ...                ...                ...               ...   \n",
       "123112             1                  0                  0     167772.160000   \n",
       "123113             1                  0                  0     144631.172400   \n",
       "123114             1                  0                  0     167772.160000   \n",
       "123115             1                  0                  0     167772.160000   \n",
       "123116             1                  0                  0     167772.160000   \n",
       "\n",
       "        ...    active.avg  active.std     idle.min     idle.max     idle.tot  \\\n",
       "0       ...  2.282415e+06         0.0  29729182.96  29729182.96  29729182.96   \n",
       "1       ...  2.028307e+06         0.0  29855277.06  29855277.06  29855277.06   \n",
       "2       ...  2.281904e+06         0.0  29842149.02  29842149.02  29842149.02   \n",
       "3       ...  2.047288e+06         0.0  29913774.97  29913774.97  29913774.97   \n",
       "4       ...  2.087657e+06         0.0  29814704.90  29814704.90  29814704.90   \n",
       "...     ...           ...         ...          ...          ...          ...   \n",
       "123112  ...  5.960464e+00         0.0         0.00         0.00         0.00   \n",
       "123113  ...  6.914139e+00         0.0         0.00         0.00         0.00   \n",
       "123114  ...  5.960464e+00         0.0         0.00         0.00         0.00   \n",
       "123115  ...  5.960464e+00         0.0         0.00         0.00         0.00   \n",
       "123116  ...  5.960464e+00         0.0         0.00         0.00         0.00   \n",
       "\n",
       "           idle.avg  idle.std  fwd_init_window_size  bwd_init_window_size  \\\n",
       "0       29729182.96       0.0                 64240                 26847   \n",
       "1       29855277.06       0.0                 64240                 26847   \n",
       "2       29842149.02       0.0                 64240                 26847   \n",
       "3       29913774.97       0.0                 64240                 26847   \n",
       "4       29814704.90       0.0                 64240                 26847   \n",
       "...             ...       ...                   ...                   ...   \n",
       "123112         0.00       0.0                  1024                     0   \n",
       "123113         0.00       0.0                  1024                     0   \n",
       "123114         0.00       0.0                  1024                     0   \n",
       "123115         0.00       0.0                  1024                     0   \n",
       "123116         0.00       0.0                  1024                     0   \n",
       "\n",
       "        fwd_last_window_size  \n",
       "0                        502  \n",
       "1                        502  \n",
       "2                        502  \n",
       "3                        502  \n",
       "4                        502  \n",
       "...                      ...  \n",
       "123112                  1024  \n",
       "123113                  1024  \n",
       "123114                  1024  \n",
       "123115                  1024  \n",
       "123116                  1024  \n",
       "\n",
       "[123117 rows x 83 columns]"
      ]
     },
     "execution_count": 5,
     "metadata": {},
     "output_type": "execute_result"
    }
   ],
   "source": [
    "X"
   ]
  },
  {
   "cell_type": "code",
   "execution_count": 6,
   "metadata": {
    "id": "a_IABfisoySp"
   },
   "outputs": [],
   "source": [
    "# Dropping IDs\n",
    "X = X.drop(columns=['id.orig_p', 'id.resp_p'])"
   ]
  },
  {
   "cell_type": "code",
   "execution_count": 7,
   "metadata": {
    "colab": {
     "base_uri": "https://localhost:8080/",
     "height": 0
    },
    "id": "HwIpKQdNpHYx",
    "outputId": "39924163-06aa-4bc5-c981-81a03e626ecc"
   },
   "outputs": [
    {
     "data": {
      "text/html": [
       "<div>\n",
       "<style scoped>\n",
       "    .dataframe tbody tr th:only-of-type {\n",
       "        vertical-align: middle;\n",
       "    }\n",
       "\n",
       "    .dataframe tbody tr th {\n",
       "        vertical-align: top;\n",
       "    }\n",
       "\n",
       "    .dataframe thead th {\n",
       "        text-align: right;\n",
       "    }\n",
       "</style>\n",
       "<table border=\"1\" class=\"dataframe\">\n",
       "  <thead>\n",
       "    <tr style=\"text-align: right;\">\n",
       "      <th></th>\n",
       "      <th>proto</th>\n",
       "      <th>service</th>\n",
       "      <th>flow_duration</th>\n",
       "      <th>fwd_pkts_tot</th>\n",
       "      <th>bwd_pkts_tot</th>\n",
       "      <th>fwd_data_pkts_tot</th>\n",
       "      <th>bwd_data_pkts_tot</th>\n",
       "      <th>fwd_pkts_per_sec</th>\n",
       "      <th>bwd_pkts_per_sec</th>\n",
       "      <th>flow_pkts_per_sec</th>\n",
       "      <th>...</th>\n",
       "      <th>active.avg</th>\n",
       "      <th>active.std</th>\n",
       "      <th>idle.min</th>\n",
       "      <th>idle.max</th>\n",
       "      <th>idle.tot</th>\n",
       "      <th>idle.avg</th>\n",
       "      <th>idle.std</th>\n",
       "      <th>fwd_init_window_size</th>\n",
       "      <th>bwd_init_window_size</th>\n",
       "      <th>fwd_last_window_size</th>\n",
       "    </tr>\n",
       "  </thead>\n",
       "  <tbody>\n",
       "    <tr>\n",
       "      <th>0</th>\n",
       "      <td>tcp</td>\n",
       "      <td>mqtt</td>\n",
       "      <td>32.011598</td>\n",
       "      <td>9</td>\n",
       "      <td>5</td>\n",
       "      <td>3</td>\n",
       "      <td>3</td>\n",
       "      <td>0.281148</td>\n",
       "      <td>0.156193</td>\n",
       "      <td>0.437341</td>\n",
       "      <td>...</td>\n",
       "      <td>2.282415e+06</td>\n",
       "      <td>0.0</td>\n",
       "      <td>29729182.96</td>\n",
       "      <td>29729182.96</td>\n",
       "      <td>29729182.96</td>\n",
       "      <td>29729182.96</td>\n",
       "      <td>0.0</td>\n",
       "      <td>64240</td>\n",
       "      <td>26847</td>\n",
       "      <td>502</td>\n",
       "    </tr>\n",
       "    <tr>\n",
       "      <th>1</th>\n",
       "      <td>tcp</td>\n",
       "      <td>mqtt</td>\n",
       "      <td>31.883584</td>\n",
       "      <td>9</td>\n",
       "      <td>5</td>\n",
       "      <td>3</td>\n",
       "      <td>3</td>\n",
       "      <td>0.282277</td>\n",
       "      <td>0.156821</td>\n",
       "      <td>0.439097</td>\n",
       "      <td>...</td>\n",
       "      <td>2.028307e+06</td>\n",
       "      <td>0.0</td>\n",
       "      <td>29855277.06</td>\n",
       "      <td>29855277.06</td>\n",
       "      <td>29855277.06</td>\n",
       "      <td>29855277.06</td>\n",
       "      <td>0.0</td>\n",
       "      <td>64240</td>\n",
       "      <td>26847</td>\n",
       "      <td>502</td>\n",
       "    </tr>\n",
       "    <tr>\n",
       "      <th>2</th>\n",
       "      <td>tcp</td>\n",
       "      <td>mqtt</td>\n",
       "      <td>32.124053</td>\n",
       "      <td>9</td>\n",
       "      <td>5</td>\n",
       "      <td>3</td>\n",
       "      <td>3</td>\n",
       "      <td>0.280164</td>\n",
       "      <td>0.155647</td>\n",
       "      <td>0.435811</td>\n",
       "      <td>...</td>\n",
       "      <td>2.281904e+06</td>\n",
       "      <td>0.0</td>\n",
       "      <td>29842149.02</td>\n",
       "      <td>29842149.02</td>\n",
       "      <td>29842149.02</td>\n",
       "      <td>29842149.02</td>\n",
       "      <td>0.0</td>\n",
       "      <td>64240</td>\n",
       "      <td>26847</td>\n",
       "      <td>502</td>\n",
       "    </tr>\n",
       "    <tr>\n",
       "      <th>3</th>\n",
       "      <td>tcp</td>\n",
       "      <td>mqtt</td>\n",
       "      <td>31.961063</td>\n",
       "      <td>9</td>\n",
       "      <td>5</td>\n",
       "      <td>3</td>\n",
       "      <td>3</td>\n",
       "      <td>0.281593</td>\n",
       "      <td>0.156440</td>\n",
       "      <td>0.438033</td>\n",
       "      <td>...</td>\n",
       "      <td>2.047288e+06</td>\n",
       "      <td>0.0</td>\n",
       "      <td>29913774.97</td>\n",
       "      <td>29913774.97</td>\n",
       "      <td>29913774.97</td>\n",
       "      <td>29913774.97</td>\n",
       "      <td>0.0</td>\n",
       "      <td>64240</td>\n",
       "      <td>26847</td>\n",
       "      <td>502</td>\n",
       "    </tr>\n",
       "    <tr>\n",
       "      <th>4</th>\n",
       "      <td>tcp</td>\n",
       "      <td>mqtt</td>\n",
       "      <td>31.902362</td>\n",
       "      <td>9</td>\n",
       "      <td>5</td>\n",
       "      <td>3</td>\n",
       "      <td>3</td>\n",
       "      <td>0.282111</td>\n",
       "      <td>0.156728</td>\n",
       "      <td>0.438839</td>\n",
       "      <td>...</td>\n",
       "      <td>2.087657e+06</td>\n",
       "      <td>0.0</td>\n",
       "      <td>29814704.90</td>\n",
       "      <td>29814704.90</td>\n",
       "      <td>29814704.90</td>\n",
       "      <td>29814704.90</td>\n",
       "      <td>0.0</td>\n",
       "      <td>64240</td>\n",
       "      <td>26847</td>\n",
       "      <td>502</td>\n",
       "    </tr>\n",
       "    <tr>\n",
       "      <th>...</th>\n",
       "      <td>...</td>\n",
       "      <td>...</td>\n",
       "      <td>...</td>\n",
       "      <td>...</td>\n",
       "      <td>...</td>\n",
       "      <td>...</td>\n",
       "      <td>...</td>\n",
       "      <td>...</td>\n",
       "      <td>...</td>\n",
       "      <td>...</td>\n",
       "      <td>...</td>\n",
       "      <td>...</td>\n",
       "      <td>...</td>\n",
       "      <td>...</td>\n",
       "      <td>...</td>\n",
       "      <td>...</td>\n",
       "      <td>...</td>\n",
       "      <td>...</td>\n",
       "      <td>...</td>\n",
       "      <td>...</td>\n",
       "      <td>...</td>\n",
       "    </tr>\n",
       "    <tr>\n",
       "      <th>123112</th>\n",
       "      <td>tcp</td>\n",
       "      <td>-</td>\n",
       "      <td>0.000006</td>\n",
       "      <td>1</td>\n",
       "      <td>1</td>\n",
       "      <td>0</td>\n",
       "      <td>0</td>\n",
       "      <td>167772.160000</td>\n",
       "      <td>167772.160000</td>\n",
       "      <td>335544.320000</td>\n",
       "      <td>...</td>\n",
       "      <td>5.960464e+00</td>\n",
       "      <td>0.0</td>\n",
       "      <td>0.00</td>\n",
       "      <td>0.00</td>\n",
       "      <td>0.00</td>\n",
       "      <td>0.00</td>\n",
       "      <td>0.0</td>\n",
       "      <td>1024</td>\n",
       "      <td>0</td>\n",
       "      <td>1024</td>\n",
       "    </tr>\n",
       "    <tr>\n",
       "      <th>123113</th>\n",
       "      <td>tcp</td>\n",
       "      <td>-</td>\n",
       "      <td>0.000007</td>\n",
       "      <td>1</td>\n",
       "      <td>1</td>\n",
       "      <td>0</td>\n",
       "      <td>0</td>\n",
       "      <td>144631.172400</td>\n",
       "      <td>144631.172400</td>\n",
       "      <td>289262.344800</td>\n",
       "      <td>...</td>\n",
       "      <td>6.914139e+00</td>\n",
       "      <td>0.0</td>\n",
       "      <td>0.00</td>\n",
       "      <td>0.00</td>\n",
       "      <td>0.00</td>\n",
       "      <td>0.00</td>\n",
       "      <td>0.0</td>\n",
       "      <td>1024</td>\n",
       "      <td>0</td>\n",
       "      <td>1024</td>\n",
       "    </tr>\n",
       "    <tr>\n",
       "      <th>123114</th>\n",
       "      <td>tcp</td>\n",
       "      <td>-</td>\n",
       "      <td>0.000006</td>\n",
       "      <td>1</td>\n",
       "      <td>1</td>\n",
       "      <td>0</td>\n",
       "      <td>0</td>\n",
       "      <td>167772.160000</td>\n",
       "      <td>167772.160000</td>\n",
       "      <td>335544.320000</td>\n",
       "      <td>...</td>\n",
       "      <td>5.960464e+00</td>\n",
       "      <td>0.0</td>\n",
       "      <td>0.00</td>\n",
       "      <td>0.00</td>\n",
       "      <td>0.00</td>\n",
       "      <td>0.00</td>\n",
       "      <td>0.0</td>\n",
       "      <td>1024</td>\n",
       "      <td>0</td>\n",
       "      <td>1024</td>\n",
       "    </tr>\n",
       "    <tr>\n",
       "      <th>123115</th>\n",
       "      <td>tcp</td>\n",
       "      <td>-</td>\n",
       "      <td>0.000006</td>\n",
       "      <td>1</td>\n",
       "      <td>1</td>\n",
       "      <td>0</td>\n",
       "      <td>0</td>\n",
       "      <td>167772.160000</td>\n",
       "      <td>167772.160000</td>\n",
       "      <td>335544.320000</td>\n",
       "      <td>...</td>\n",
       "      <td>5.960464e+00</td>\n",
       "      <td>0.0</td>\n",
       "      <td>0.00</td>\n",
       "      <td>0.00</td>\n",
       "      <td>0.00</td>\n",
       "      <td>0.00</td>\n",
       "      <td>0.0</td>\n",
       "      <td>1024</td>\n",
       "      <td>0</td>\n",
       "      <td>1024</td>\n",
       "    </tr>\n",
       "    <tr>\n",
       "      <th>123116</th>\n",
       "      <td>tcp</td>\n",
       "      <td>-</td>\n",
       "      <td>0.000006</td>\n",
       "      <td>1</td>\n",
       "      <td>1</td>\n",
       "      <td>0</td>\n",
       "      <td>0</td>\n",
       "      <td>167772.160000</td>\n",
       "      <td>167772.160000</td>\n",
       "      <td>335544.320000</td>\n",
       "      <td>...</td>\n",
       "      <td>5.960464e+00</td>\n",
       "      <td>0.0</td>\n",
       "      <td>0.00</td>\n",
       "      <td>0.00</td>\n",
       "      <td>0.00</td>\n",
       "      <td>0.00</td>\n",
       "      <td>0.0</td>\n",
       "      <td>1024</td>\n",
       "      <td>0</td>\n",
       "      <td>1024</td>\n",
       "    </tr>\n",
       "  </tbody>\n",
       "</table>\n",
       "<p>123117 rows × 81 columns</p>\n",
       "</div>"
      ],
      "text/plain": [
       "       proto service  flow_duration  fwd_pkts_tot  bwd_pkts_tot  \\\n",
       "0        tcp    mqtt      32.011598             9             5   \n",
       "1        tcp    mqtt      31.883584             9             5   \n",
       "2        tcp    mqtt      32.124053             9             5   \n",
       "3        tcp    mqtt      31.961063             9             5   \n",
       "4        tcp    mqtt      31.902362             9             5   \n",
       "...      ...     ...            ...           ...           ...   \n",
       "123112   tcp       -       0.000006             1             1   \n",
       "123113   tcp       -       0.000007             1             1   \n",
       "123114   tcp       -       0.000006             1             1   \n",
       "123115   tcp       -       0.000006             1             1   \n",
       "123116   tcp       -       0.000006             1             1   \n",
       "\n",
       "        fwd_data_pkts_tot  bwd_data_pkts_tot  fwd_pkts_per_sec  \\\n",
       "0                       3                  3          0.281148   \n",
       "1                       3                  3          0.282277   \n",
       "2                       3                  3          0.280164   \n",
       "3                       3                  3          0.281593   \n",
       "4                       3                  3          0.282111   \n",
       "...                   ...                ...               ...   \n",
       "123112                  0                  0     167772.160000   \n",
       "123113                  0                  0     144631.172400   \n",
       "123114                  0                  0     167772.160000   \n",
       "123115                  0                  0     167772.160000   \n",
       "123116                  0                  0     167772.160000   \n",
       "\n",
       "        bwd_pkts_per_sec  flow_pkts_per_sec  ...    active.avg  active.std  \\\n",
       "0               0.156193           0.437341  ...  2.282415e+06         0.0   \n",
       "1               0.156821           0.439097  ...  2.028307e+06         0.0   \n",
       "2               0.155647           0.435811  ...  2.281904e+06         0.0   \n",
       "3               0.156440           0.438033  ...  2.047288e+06         0.0   \n",
       "4               0.156728           0.438839  ...  2.087657e+06         0.0   \n",
       "...                  ...                ...  ...           ...         ...   \n",
       "123112     167772.160000      335544.320000  ...  5.960464e+00         0.0   \n",
       "123113     144631.172400      289262.344800  ...  6.914139e+00         0.0   \n",
       "123114     167772.160000      335544.320000  ...  5.960464e+00         0.0   \n",
       "123115     167772.160000      335544.320000  ...  5.960464e+00         0.0   \n",
       "123116     167772.160000      335544.320000  ...  5.960464e+00         0.0   \n",
       "\n",
       "           idle.min     idle.max     idle.tot     idle.avg  idle.std  \\\n",
       "0       29729182.96  29729182.96  29729182.96  29729182.96       0.0   \n",
       "1       29855277.06  29855277.06  29855277.06  29855277.06       0.0   \n",
       "2       29842149.02  29842149.02  29842149.02  29842149.02       0.0   \n",
       "3       29913774.97  29913774.97  29913774.97  29913774.97       0.0   \n",
       "4       29814704.90  29814704.90  29814704.90  29814704.90       0.0   \n",
       "...             ...          ...          ...          ...       ...   \n",
       "123112         0.00         0.00         0.00         0.00       0.0   \n",
       "123113         0.00         0.00         0.00         0.00       0.0   \n",
       "123114         0.00         0.00         0.00         0.00       0.0   \n",
       "123115         0.00         0.00         0.00         0.00       0.0   \n",
       "123116         0.00         0.00         0.00         0.00       0.0   \n",
       "\n",
       "        fwd_init_window_size  bwd_init_window_size  fwd_last_window_size  \n",
       "0                      64240                 26847                   502  \n",
       "1                      64240                 26847                   502  \n",
       "2                      64240                 26847                   502  \n",
       "3                      64240                 26847                   502  \n",
       "4                      64240                 26847                   502  \n",
       "...                      ...                   ...                   ...  \n",
       "123112                  1024                     0                  1024  \n",
       "123113                  1024                     0                  1024  \n",
       "123114                  1024                     0                  1024  \n",
       "123115                  1024                     0                  1024  \n",
       "123116                  1024                     0                  1024  \n",
       "\n",
       "[123117 rows x 81 columns]"
      ]
     },
     "execution_count": 7,
     "metadata": {},
     "output_type": "execute_result"
    }
   ],
   "source": [
    "X"
   ]
  },
  {
   "cell_type": "code",
   "execution_count": 8,
   "metadata": {
    "colab": {
     "base_uri": "https://localhost:8080/"
    },
    "id": "TGib9sbGeG7Z",
    "outputId": "84a0d2a4-54c4-4c15-e61f-9807baad5ebb"
   },
   "outputs": [
    {
     "data": {
      "text/plain": [
       "proto\n",
       "tcp     110427\n",
       "udp      12633\n",
       "icmp        57\n",
       "Name: count, dtype: int64"
      ]
     },
     "execution_count": 8,
     "metadata": {},
     "output_type": "execute_result"
    }
   ],
   "source": [
    "# Looking at proto\n",
    "X['proto'].value_counts()"
   ]
  },
  {
   "cell_type": "code",
   "execution_count": 9,
   "metadata": {
    "colab": {
     "base_uri": "https://localhost:8080/"
    },
    "id": "MWZg3ztpef0x",
    "outputId": "4a8ea9c7-a0d9-412f-d1c5-34c662683862"
   },
   "outputs": [
    {
     "data": {
      "text/plain": [
       "service\n",
       "-         102861\n",
       "dns         9753\n",
       "mqtt        4132\n",
       "http        3464\n",
       "ssl         2663\n",
       "ntp          121\n",
       "dhcp          50\n",
       "irc           43\n",
       "ssh           28\n",
       "radius         2\n",
       "Name: count, dtype: int64"
      ]
     },
     "execution_count": 9,
     "metadata": {},
     "output_type": "execute_result"
    }
   ],
   "source": [
    "# Looking at service\n",
    "X['service'].value_counts()"
   ]
  },
  {
   "cell_type": "code",
   "execution_count": 10,
   "metadata": {
    "id": "rwtfKW3PdVYw"
   },
   "outputs": [],
   "source": [
    "# Encoding proto and service\n",
    "from sklearn.preprocessing import OneHotEncoder\n",
    "\n",
    "onehot = OneHotEncoder()\n",
    "new_cols = onehot.fit_transform(X[['proto', 'service']])"
   ]
  },
  {
   "cell_type": "code",
   "execution_count": 11,
   "metadata": {
    "id": "Ox9i4MrieEeJ"
   },
   "outputs": [],
   "source": [
    "# Dropping old columns\n",
    "X = X.drop(columns=['proto', 'service'])"
   ]
  },
  {
   "cell_type": "code",
   "execution_count": 12,
   "metadata": {
    "colab": {
     "base_uri": "https://localhost:8080/"
    },
    "id": "MxV5T3sVgoZR",
    "outputId": "91efd63e-bfd5-473c-b7c4-08ec090c0cbf"
   },
   "outputs": [
    {
     "data": {
      "text/plain": [
       "[array(['icmp', 'tcp', 'udp'], dtype=object),\n",
       " array(['-', 'dhcp', 'dns', 'http', 'irc', 'mqtt', 'ntp', 'radius', 'ssh',\n",
       "        'ssl'], dtype=object)]"
      ]
     },
     "execution_count": 12,
     "metadata": {},
     "output_type": "execute_result"
    }
   ],
   "source": [
    "# Checking new column names\n",
    "onehot.categories_"
   ]
  },
  {
   "cell_type": "code",
   "execution_count": 13,
   "metadata": {
    "id": "pPsCa2YGg3Pw"
   },
   "outputs": [],
   "source": [
    "# Combining all column names\n",
    "col_names = np.concatenate([onehot.categories_[0], onehot.categories_[1]])"
   ]
  },
  {
   "cell_type": "code",
   "execution_count": 14,
   "metadata": {
    "id": "0BB3yGA7gBSB"
   },
   "outputs": [],
   "source": [
    "# Adding new one hot columns\n",
    "X = X.join(pd.DataFrame(new_cols.toarray(), columns=col_names))"
   ]
  },
  {
   "cell_type": "code",
   "execution_count": 15,
   "metadata": {
    "colab": {
     "base_uri": "https://localhost:8080/",
     "height": 0
    },
    "id": "Y2PtBANLiQqe",
    "outputId": "c0b31b74-0bf2-4c27-9d4e-0dc549c17c9a"
   },
   "outputs": [
    {
     "data": {
      "text/html": [
       "<div>\n",
       "<style scoped>\n",
       "    .dataframe tbody tr th:only-of-type {\n",
       "        vertical-align: middle;\n",
       "    }\n",
       "\n",
       "    .dataframe tbody tr th {\n",
       "        vertical-align: top;\n",
       "    }\n",
       "\n",
       "    .dataframe thead th {\n",
       "        text-align: right;\n",
       "    }\n",
       "</style>\n",
       "<table border=\"1\" class=\"dataframe\">\n",
       "  <thead>\n",
       "    <tr style=\"text-align: right;\">\n",
       "      <th></th>\n",
       "      <th>flow_duration</th>\n",
       "      <th>fwd_pkts_tot</th>\n",
       "      <th>bwd_pkts_tot</th>\n",
       "      <th>fwd_data_pkts_tot</th>\n",
       "      <th>bwd_data_pkts_tot</th>\n",
       "      <th>fwd_pkts_per_sec</th>\n",
       "      <th>bwd_pkts_per_sec</th>\n",
       "      <th>flow_pkts_per_sec</th>\n",
       "      <th>down_up_ratio</th>\n",
       "      <th>fwd_header_size_tot</th>\n",
       "      <th>...</th>\n",
       "      <th>-</th>\n",
       "      <th>dhcp</th>\n",
       "      <th>dns</th>\n",
       "      <th>http</th>\n",
       "      <th>irc</th>\n",
       "      <th>mqtt</th>\n",
       "      <th>ntp</th>\n",
       "      <th>radius</th>\n",
       "      <th>ssh</th>\n",
       "      <th>ssl</th>\n",
       "    </tr>\n",
       "  </thead>\n",
       "  <tbody>\n",
       "    <tr>\n",
       "      <th>0</th>\n",
       "      <td>32.011598</td>\n",
       "      <td>9</td>\n",
       "      <td>5</td>\n",
       "      <td>3</td>\n",
       "      <td>3</td>\n",
       "      <td>0.281148</td>\n",
       "      <td>0.156193</td>\n",
       "      <td>0.437341</td>\n",
       "      <td>0.555556</td>\n",
       "      <td>296</td>\n",
       "      <td>...</td>\n",
       "      <td>0.0</td>\n",
       "      <td>0.0</td>\n",
       "      <td>0.0</td>\n",
       "      <td>0.0</td>\n",
       "      <td>0.0</td>\n",
       "      <td>1.0</td>\n",
       "      <td>0.0</td>\n",
       "      <td>0.0</td>\n",
       "      <td>0.0</td>\n",
       "      <td>0.0</td>\n",
       "    </tr>\n",
       "    <tr>\n",
       "      <th>1</th>\n",
       "      <td>31.883584</td>\n",
       "      <td>9</td>\n",
       "      <td>5</td>\n",
       "      <td>3</td>\n",
       "      <td>3</td>\n",
       "      <td>0.282277</td>\n",
       "      <td>0.156821</td>\n",
       "      <td>0.439097</td>\n",
       "      <td>0.555556</td>\n",
       "      <td>296</td>\n",
       "      <td>...</td>\n",
       "      <td>0.0</td>\n",
       "      <td>0.0</td>\n",
       "      <td>0.0</td>\n",
       "      <td>0.0</td>\n",
       "      <td>0.0</td>\n",
       "      <td>1.0</td>\n",
       "      <td>0.0</td>\n",
       "      <td>0.0</td>\n",
       "      <td>0.0</td>\n",
       "      <td>0.0</td>\n",
       "    </tr>\n",
       "    <tr>\n",
       "      <th>2</th>\n",
       "      <td>32.124053</td>\n",
       "      <td>9</td>\n",
       "      <td>5</td>\n",
       "      <td>3</td>\n",
       "      <td>3</td>\n",
       "      <td>0.280164</td>\n",
       "      <td>0.155647</td>\n",
       "      <td>0.435811</td>\n",
       "      <td>0.555556</td>\n",
       "      <td>296</td>\n",
       "      <td>...</td>\n",
       "      <td>0.0</td>\n",
       "      <td>0.0</td>\n",
       "      <td>0.0</td>\n",
       "      <td>0.0</td>\n",
       "      <td>0.0</td>\n",
       "      <td>1.0</td>\n",
       "      <td>0.0</td>\n",
       "      <td>0.0</td>\n",
       "      <td>0.0</td>\n",
       "      <td>0.0</td>\n",
       "    </tr>\n",
       "    <tr>\n",
       "      <th>3</th>\n",
       "      <td>31.961063</td>\n",
       "      <td>9</td>\n",
       "      <td>5</td>\n",
       "      <td>3</td>\n",
       "      <td>3</td>\n",
       "      <td>0.281593</td>\n",
       "      <td>0.156440</td>\n",
       "      <td>0.438033</td>\n",
       "      <td>0.555556</td>\n",
       "      <td>296</td>\n",
       "      <td>...</td>\n",
       "      <td>0.0</td>\n",
       "      <td>0.0</td>\n",
       "      <td>0.0</td>\n",
       "      <td>0.0</td>\n",
       "      <td>0.0</td>\n",
       "      <td>1.0</td>\n",
       "      <td>0.0</td>\n",
       "      <td>0.0</td>\n",
       "      <td>0.0</td>\n",
       "      <td>0.0</td>\n",
       "    </tr>\n",
       "    <tr>\n",
       "      <th>4</th>\n",
       "      <td>31.902362</td>\n",
       "      <td>9</td>\n",
       "      <td>5</td>\n",
       "      <td>3</td>\n",
       "      <td>3</td>\n",
       "      <td>0.282111</td>\n",
       "      <td>0.156728</td>\n",
       "      <td>0.438839</td>\n",
       "      <td>0.555556</td>\n",
       "      <td>296</td>\n",
       "      <td>...</td>\n",
       "      <td>0.0</td>\n",
       "      <td>0.0</td>\n",
       "      <td>0.0</td>\n",
       "      <td>0.0</td>\n",
       "      <td>0.0</td>\n",
       "      <td>1.0</td>\n",
       "      <td>0.0</td>\n",
       "      <td>0.0</td>\n",
       "      <td>0.0</td>\n",
       "      <td>0.0</td>\n",
       "    </tr>\n",
       "    <tr>\n",
       "      <th>...</th>\n",
       "      <td>...</td>\n",
       "      <td>...</td>\n",
       "      <td>...</td>\n",
       "      <td>...</td>\n",
       "      <td>...</td>\n",
       "      <td>...</td>\n",
       "      <td>...</td>\n",
       "      <td>...</td>\n",
       "      <td>...</td>\n",
       "      <td>...</td>\n",
       "      <td>...</td>\n",
       "      <td>...</td>\n",
       "      <td>...</td>\n",
       "      <td>...</td>\n",
       "      <td>...</td>\n",
       "      <td>...</td>\n",
       "      <td>...</td>\n",
       "      <td>...</td>\n",
       "      <td>...</td>\n",
       "      <td>...</td>\n",
       "      <td>...</td>\n",
       "    </tr>\n",
       "    <tr>\n",
       "      <th>123112</th>\n",
       "      <td>0.000006</td>\n",
       "      <td>1</td>\n",
       "      <td>1</td>\n",
       "      <td>0</td>\n",
       "      <td>0</td>\n",
       "      <td>167772.160000</td>\n",
       "      <td>167772.160000</td>\n",
       "      <td>335544.320000</td>\n",
       "      <td>1.000000</td>\n",
       "      <td>20</td>\n",
       "      <td>...</td>\n",
       "      <td>1.0</td>\n",
       "      <td>0.0</td>\n",
       "      <td>0.0</td>\n",
       "      <td>0.0</td>\n",
       "      <td>0.0</td>\n",
       "      <td>0.0</td>\n",
       "      <td>0.0</td>\n",
       "      <td>0.0</td>\n",
       "      <td>0.0</td>\n",
       "      <td>0.0</td>\n",
       "    </tr>\n",
       "    <tr>\n",
       "      <th>123113</th>\n",
       "      <td>0.000007</td>\n",
       "      <td>1</td>\n",
       "      <td>1</td>\n",
       "      <td>0</td>\n",
       "      <td>0</td>\n",
       "      <td>144631.172400</td>\n",
       "      <td>144631.172400</td>\n",
       "      <td>289262.344800</td>\n",
       "      <td>1.000000</td>\n",
       "      <td>20</td>\n",
       "      <td>...</td>\n",
       "      <td>1.0</td>\n",
       "      <td>0.0</td>\n",
       "      <td>0.0</td>\n",
       "      <td>0.0</td>\n",
       "      <td>0.0</td>\n",
       "      <td>0.0</td>\n",
       "      <td>0.0</td>\n",
       "      <td>0.0</td>\n",
       "      <td>0.0</td>\n",
       "      <td>0.0</td>\n",
       "    </tr>\n",
       "    <tr>\n",
       "      <th>123114</th>\n",
       "      <td>0.000006</td>\n",
       "      <td>1</td>\n",
       "      <td>1</td>\n",
       "      <td>0</td>\n",
       "      <td>0</td>\n",
       "      <td>167772.160000</td>\n",
       "      <td>167772.160000</td>\n",
       "      <td>335544.320000</td>\n",
       "      <td>1.000000</td>\n",
       "      <td>20</td>\n",
       "      <td>...</td>\n",
       "      <td>1.0</td>\n",
       "      <td>0.0</td>\n",
       "      <td>0.0</td>\n",
       "      <td>0.0</td>\n",
       "      <td>0.0</td>\n",
       "      <td>0.0</td>\n",
       "      <td>0.0</td>\n",
       "      <td>0.0</td>\n",
       "      <td>0.0</td>\n",
       "      <td>0.0</td>\n",
       "    </tr>\n",
       "    <tr>\n",
       "      <th>123115</th>\n",
       "      <td>0.000006</td>\n",
       "      <td>1</td>\n",
       "      <td>1</td>\n",
       "      <td>0</td>\n",
       "      <td>0</td>\n",
       "      <td>167772.160000</td>\n",
       "      <td>167772.160000</td>\n",
       "      <td>335544.320000</td>\n",
       "      <td>1.000000</td>\n",
       "      <td>20</td>\n",
       "      <td>...</td>\n",
       "      <td>1.0</td>\n",
       "      <td>0.0</td>\n",
       "      <td>0.0</td>\n",
       "      <td>0.0</td>\n",
       "      <td>0.0</td>\n",
       "      <td>0.0</td>\n",
       "      <td>0.0</td>\n",
       "      <td>0.0</td>\n",
       "      <td>0.0</td>\n",
       "      <td>0.0</td>\n",
       "    </tr>\n",
       "    <tr>\n",
       "      <th>123116</th>\n",
       "      <td>0.000006</td>\n",
       "      <td>1</td>\n",
       "      <td>1</td>\n",
       "      <td>0</td>\n",
       "      <td>0</td>\n",
       "      <td>167772.160000</td>\n",
       "      <td>167772.160000</td>\n",
       "      <td>335544.320000</td>\n",
       "      <td>1.000000</td>\n",
       "      <td>20</td>\n",
       "      <td>...</td>\n",
       "      <td>1.0</td>\n",
       "      <td>0.0</td>\n",
       "      <td>0.0</td>\n",
       "      <td>0.0</td>\n",
       "      <td>0.0</td>\n",
       "      <td>0.0</td>\n",
       "      <td>0.0</td>\n",
       "      <td>0.0</td>\n",
       "      <td>0.0</td>\n",
       "      <td>0.0</td>\n",
       "    </tr>\n",
       "  </tbody>\n",
       "</table>\n",
       "<p>123117 rows × 92 columns</p>\n",
       "</div>"
      ],
      "text/plain": [
       "        flow_duration  fwd_pkts_tot  bwd_pkts_tot  fwd_data_pkts_tot  \\\n",
       "0           32.011598             9             5                  3   \n",
       "1           31.883584             9             5                  3   \n",
       "2           32.124053             9             5                  3   \n",
       "3           31.961063             9             5                  3   \n",
       "4           31.902362             9             5                  3   \n",
       "...               ...           ...           ...                ...   \n",
       "123112       0.000006             1             1                  0   \n",
       "123113       0.000007             1             1                  0   \n",
       "123114       0.000006             1             1                  0   \n",
       "123115       0.000006             1             1                  0   \n",
       "123116       0.000006             1             1                  0   \n",
       "\n",
       "        bwd_data_pkts_tot  fwd_pkts_per_sec  bwd_pkts_per_sec  \\\n",
       "0                       3          0.281148          0.156193   \n",
       "1                       3          0.282277          0.156821   \n",
       "2                       3          0.280164          0.155647   \n",
       "3                       3          0.281593          0.156440   \n",
       "4                       3          0.282111          0.156728   \n",
       "...                   ...               ...               ...   \n",
       "123112                  0     167772.160000     167772.160000   \n",
       "123113                  0     144631.172400     144631.172400   \n",
       "123114                  0     167772.160000     167772.160000   \n",
       "123115                  0     167772.160000     167772.160000   \n",
       "123116                  0     167772.160000     167772.160000   \n",
       "\n",
       "        flow_pkts_per_sec  down_up_ratio  fwd_header_size_tot  ...    -  dhcp  \\\n",
       "0                0.437341       0.555556                  296  ...  0.0   0.0   \n",
       "1                0.439097       0.555556                  296  ...  0.0   0.0   \n",
       "2                0.435811       0.555556                  296  ...  0.0   0.0   \n",
       "3                0.438033       0.555556                  296  ...  0.0   0.0   \n",
       "4                0.438839       0.555556                  296  ...  0.0   0.0   \n",
       "...                   ...            ...                  ...  ...  ...   ...   \n",
       "123112      335544.320000       1.000000                   20  ...  1.0   0.0   \n",
       "123113      289262.344800       1.000000                   20  ...  1.0   0.0   \n",
       "123114      335544.320000       1.000000                   20  ...  1.0   0.0   \n",
       "123115      335544.320000       1.000000                   20  ...  1.0   0.0   \n",
       "123116      335544.320000       1.000000                   20  ...  1.0   0.0   \n",
       "\n",
       "        dns  http  irc  mqtt  ntp  radius  ssh  ssl  \n",
       "0       0.0   0.0  0.0   1.0  0.0     0.0  0.0  0.0  \n",
       "1       0.0   0.0  0.0   1.0  0.0     0.0  0.0  0.0  \n",
       "2       0.0   0.0  0.0   1.0  0.0     0.0  0.0  0.0  \n",
       "3       0.0   0.0  0.0   1.0  0.0     0.0  0.0  0.0  \n",
       "4       0.0   0.0  0.0   1.0  0.0     0.0  0.0  0.0  \n",
       "...     ...   ...  ...   ...  ...     ...  ...  ...  \n",
       "123112  0.0   0.0  0.0   0.0  0.0     0.0  0.0  0.0  \n",
       "123113  0.0   0.0  0.0   0.0  0.0     0.0  0.0  0.0  \n",
       "123114  0.0   0.0  0.0   0.0  0.0     0.0  0.0  0.0  \n",
       "123115  0.0   0.0  0.0   0.0  0.0     0.0  0.0  0.0  \n",
       "123116  0.0   0.0  0.0   0.0  0.0     0.0  0.0  0.0  \n",
       "\n",
       "[123117 rows x 92 columns]"
      ]
     },
     "execution_count": 15,
     "metadata": {},
     "output_type": "execute_result"
    }
   ],
   "source": [
    "X"
   ]
  },
  {
   "cell_type": "markdown",
   "metadata": {
    "id": "8T04BAubi3Mn"
   },
   "source": [
    "### **Label encoding**"
   ]
  },
  {
   "cell_type": "code",
   "execution_count": 16,
   "metadata": {
    "colab": {
     "base_uri": "https://localhost:8080/"
    },
    "id": "c-3xrZZaiduy",
    "outputId": "b5ef6a81-8e16-47ae-f6ea-fd8df90fcec1"
   },
   "outputs": [
    {
     "data": {
      "text/plain": [
       "Attack_type               \n",
       "DOS_SYN_Hping                 94659\n",
       "Thing_Speak                    8108\n",
       "ARP_poisioning                 7750\n",
       "MQTT_Publish                   4146\n",
       "NMAP_UDP_SCAN                  2590\n",
       "NMAP_XMAS_TREE_SCAN            2010\n",
       "NMAP_OS_DETECTION              2000\n",
       "NMAP_TCP_scan                  1002\n",
       "DDOS_Slowloris                  534\n",
       "Wipro_bulb                      253\n",
       "Metasploit_Brute_Force_SSH       37\n",
       "NMAP_FIN_SCAN                    28\n",
       "Name: count, dtype: int64"
      ]
     },
     "execution_count": 16,
     "metadata": {},
     "output_type": "execute_result"
    }
   ],
   "source": [
    "y.value_counts()"
   ]
  },
  {
   "cell_type": "code",
   "execution_count": 17,
   "metadata": {
    "id": "IsPA7807bZK1"
   },
   "outputs": [],
   "source": [
    "# Dropping NMAP_FIN_SCAN and Metasploit_Brute_Force_SSH\n",
    "labels = ['DOS_SYN_Hping', 'Thing_Speak', 'ARP_poisioning', 'MQTT_Publish', 'NMAP_UDP_SCAN', 'NMAP_XMAS_TREE_SCAN', 'NMAP_OS_DETECTION', 'NMAP_TCP_scan', 'DDOS_Slowloris', 'Wipro_bulb']\n",
    "\n",
    "\n",
    "# Filter X based on indices where y has valid values\n",
    "X = X[y.isin(labels).values]\n",
    "\n",
    "\n",
    "# Filter y based on labels\n",
    "y = y[y.isin(labels).values]"
   ]
  },
  {
   "cell_type": "code",
   "execution_count": 18,
   "metadata": {
    "colab": {
     "base_uri": "https://localhost:8080/"
    },
    "id": "ssUO1nkLh0da",
    "outputId": "112fef55-3f3e-42c4-b0ab-a483f6f5c494"
   },
   "outputs": [
    {
     "data": {
      "text/plain": [
       "Attack_type    False\n",
       "dtype: bool"
      ]
     },
     "execution_count": 18,
     "metadata": {},
     "output_type": "execute_result"
    }
   ],
   "source": [
    "y.isna().any()"
   ]
  },
  {
   "cell_type": "code",
   "execution_count": 19,
   "metadata": {
    "colab": {
     "base_uri": "https://localhost:8080/"
    },
    "id": "zHr2LDb-cjgf",
    "outputId": "893d8741-ad5f-43bd-d6d4-648fc40d9eb2"
   },
   "outputs": [
    {
     "data": {
      "text/plain": [
       "Attack_type        \n",
       "DOS_SYN_Hping          94659\n",
       "Thing_Speak             8108\n",
       "ARP_poisioning          7750\n",
       "MQTT_Publish            4146\n",
       "NMAP_UDP_SCAN           2590\n",
       "NMAP_XMAS_TREE_SCAN     2010\n",
       "NMAP_OS_DETECTION       2000\n",
       "NMAP_TCP_scan           1002\n",
       "DDOS_Slowloris           534\n",
       "Wipro_bulb               253\n",
       "Name: count, dtype: int64"
      ]
     },
     "execution_count": 19,
     "metadata": {},
     "output_type": "execute_result"
    }
   ],
   "source": [
    "y.value_counts()"
   ]
  },
  {
   "cell_type": "code",
   "execution_count": 20,
   "metadata": {
    "colab": {
     "base_uri": "https://localhost:8080/"
    },
    "id": "rvlC8PH_h4Tf",
    "outputId": "037960a7-305f-4b3c-c289-d6c06918daa5"
   },
   "outputs": [
    {
     "data": {
      "text/plain": [
       "(123052,)"
      ]
     },
     "execution_count": 20,
     "metadata": {},
     "output_type": "execute_result"
    }
   ],
   "source": [
    "y = y.to_numpy().flatten()\n",
    "y.shape"
   ]
  },
  {
   "cell_type": "code",
   "execution_count": 21,
   "metadata": {
    "id": "aAZDttMmjNEZ"
   },
   "outputs": [],
   "source": [
    "from sklearn.preprocessing import LabelEncoder\n",
    "\n",
    "labelenc = LabelEncoder()\n",
    "y = labelenc.fit_transform(y)"
   ]
  },
  {
   "cell_type": "code",
   "execution_count": 22,
   "metadata": {
    "colab": {
     "base_uri": "https://localhost:8080/"
    },
    "id": "7_sUmak1j1Bs",
    "outputId": "597dccd9-d728-41d8-e531-f1a91bcc47bd"
   },
   "outputs": [
    {
     "data": {
      "text/plain": [
       "2    94659\n",
       "8     8108\n",
       "0     7750\n",
       "3     4146\n",
       "6     2590\n",
       "7     2010\n",
       "4     2000\n",
       "5     1002\n",
       "1      534\n",
       "9      253\n",
       "Name: count, dtype: int64"
      ]
     },
     "execution_count": 22,
     "metadata": {},
     "output_type": "execute_result"
    }
   ],
   "source": [
    "df_y = pd.DataFrame(y)\n",
    "df_y.value_counts()"
   ]
  },
  {
   "cell_type": "code",
   "execution_count": 23,
   "metadata": {
    "colab": {
     "base_uri": "https://localhost:8080/"
    },
    "id": "NSaE0Q4siEf1",
    "outputId": "73089b25-4db4-4c42-8620-7562aaab4293"
   },
   "outputs": [
    {
     "data": {
      "text/plain": [
       "array(['ARP_poisioning', 'DDOS_Slowloris', 'DOS_SYN_Hping',\n",
       "       'MQTT_Publish', 'NMAP_OS_DETECTION', 'NMAP_TCP_scan',\n",
       "       'NMAP_UDP_SCAN', 'NMAP_XMAS_TREE_SCAN', 'Thing_Speak',\n",
       "       'Wipro_bulb'], dtype=object)"
      ]
     },
     "execution_count": 23,
     "metadata": {},
     "output_type": "execute_result"
    }
   ],
   "source": [
    "labelenc.classes_"
   ]
  },
  {
   "cell_type": "markdown",
   "metadata": {
    "id": "xsyqzX97kwTH"
   },
   "source": [
    "## **Scaling Inputs**"
   ]
  },
  {
   "cell_type": "markdown",
   "metadata": {
    "id": "YU13rCe4lPKg"
   },
   "source": [
    "### **MinMax Scalar**"
   ]
  },
  {
   "cell_type": "code",
   "execution_count": 24,
   "metadata": {
    "id": "BxnhzBmBknuw"
   },
   "outputs": [],
   "source": [
    "from sklearn.preprocessing import MinMaxScaler\n",
    "\n",
    "scalar = MinMaxScaler()\n",
    "X = scalar.fit_transform(X)"
   ]
  },
  {
   "cell_type": "code",
   "execution_count": 25,
   "metadata": {
    "colab": {
     "base_uri": "https://localhost:8080/"
    },
    "id": "hzn7q2DVnqzA",
    "outputId": "d4a92a47-7488-4a78-9f00-b2d256bf077f"
   },
   "outputs": [
    {
     "data": {
      "text/plain": [
       "array([1.47326508e-03, 2.07134638e-03, 4.94462025e-04, 6.90448792e-04,\n",
       "       2.96882731e-04, 2.68123627e-07, 1.48957253e-07, 2.08540440e-07,\n",
       "       9.12557846e-02, 4.27153082e-03, 7.27272727e-01, 7.69230769e-01,\n",
       "       5.19172291e-04, 8.00000000e-01, 9.09090909e-01, 0.00000000e+00,\n",
       "       2.50000000e-01, 1.00000000e-01, 3.47222222e-03, 2.07468880e-03,\n",
       "       1.10431532e-03, 0.00000000e+00, 0.00000000e+00, 0.00000000e+00,\n",
       "       0.00000000e+00, 0.00000000e+00, 2.32394366e-02, 1.01694008e-04,\n",
       "       6.40038290e-03, 1.79282482e-02, 0.00000000e+00, 4.48868072e-03,\n",
       "       2.35114065e-06, 4.39242884e-03, 6.34463988e-03, 0.00000000e+00,\n",
       "       6.44028103e-03, 7.93500059e-06, 6.67276896e-03, 1.25652435e-02,\n",
       "       2.53781600e-06, 9.90139164e-02, 1.47326507e-03, 1.33269458e-02,\n",
       "       4.90025604e-02, 1.02760777e-04, 5.03850658e-03, 1.08009851e-04,\n",
       "       3.37396838e-03, 3.21004955e-03, 1.75128716e-05, 9.90972805e-02,\n",
       "       1.47326507e-03, 3.38079903e-02, 6.11364446e-02, 2.68123706e-08,\n",
       "       1.08368453e-02, 9.88924249e-04, 4.86545568e-04, 4.70228145e-06,\n",
       "       0.00000000e+00, 0.00000000e+00, 0.00000000e+00, 0.00000000e+00,\n",
       "       0.00000000e+00, 0.00000000e+00, 7.30354136e-03, 2.69121630e-03,\n",
       "       7.74955278e-04, 5.21703111e-03, 0.00000000e+00, 9.90972805e-02,\n",
       "       9.90972805e-02, 1.41785143e-03, 9.90972805e-02, 0.00000000e+00,\n",
       "       9.80239567e-01, 4.09658961e-01, 7.66002899e-03, 0.00000000e+00,\n",
       "       1.00000000e+00, 0.00000000e+00, 0.00000000e+00, 0.00000000e+00,\n",
       "       0.00000000e+00, 0.00000000e+00, 0.00000000e+00, 1.00000000e+00,\n",
       "       0.00000000e+00, 0.00000000e+00, 0.00000000e+00, 0.00000000e+00])"
      ]
     },
     "execution_count": 25,
     "metadata": {},
     "output_type": "execute_result"
    }
   ],
   "source": [
    "X[0]"
   ]
  },
  {
   "cell_type": "markdown",
   "metadata": {
    "id": "z1mLZE6epRoU"
   },
   "source": [
    "# **Model Training and Evaluation**"
   ]
  },
  {
   "cell_type": "markdown",
   "metadata": {
    "id": "Bdgcr5eapZN7"
   },
   "source": [
    "## **Nonlinear SVM (ploy)**"
   ]
  },
  {
   "cell_type": "markdown",
   "metadata": {
    "id": "CoRdAkw0plwS"
   },
   "source": [
    "### **Functions**"
   ]
  },
  {
   "cell_type": "code",
   "execution_count": 26,
   "metadata": {
    "id": "dmgYxpbxoYiu"
   },
   "outputs": [],
   "source": [
    "from sklearn.svm import SVC\n",
    "from sklearn.model_selection import train_test_split\n",
    "from sklearn.metrics import f1_score, accuracy_score\n",
    "\n",
    "def SVM_tune_gamma(X, y):\n",
    "  max_range = 100\n",
    "  values = np.array(range(5, max_range+1, 5))\n",
    "  itr_values = tqdm(values)\n",
    "  train_acc = []\n",
    "  test_acc = []\n",
    "  train_f1 = []\n",
    "  test_f1 = []\n",
    "  for i in itr_values:\n",
    "    train_acc_temp = []\n",
    "    test_acc_temp = []\n",
    "    train_f1_temp = []\n",
    "    test_f1_temp = []\n",
    "    for j in range(10):\n",
    "      X_train, X_test, y_train, y_test = train_test_split(X, y, test_size=0.20, stratify=y)\n",
    "      clf = SVC(gamma=i)\n",
    "      clf.fit(X_train, y_train)\n",
    "      y_train_pred = clf.predict(X_train)\n",
    "      y_test_pred = clf.predict(X_test)\n",
    "      train_acc_temp.append(accuracy_score(y_train, y_train_pred))\n",
    "      test_acc_temp.append(accuracy_score(y_test, y_test_pred))\n",
    "      train_f1_temp.append(f1_score(y_train, y_train_pred, average='macro'))\n",
    "      test_f1_temp.append(f1_score(y_test, y_test_pred, average='macro'))\n",
    "    train_acc.append(np.mean(train_acc_temp))\n",
    "    test_acc.append(np.mean(test_acc_temp))\n",
    "    train_f1.append(np.mean(train_f1_temp))\n",
    "    test_f1.append(np.mean(test_f1_temp))\n",
    "  return train_acc, test_acc, train_f1, test_f1, values\n",
    "\n",
    "\n",
    "\n",
    "def plot_train_test_acc_values(train, test, x, title):\n",
    "  plt.figure()\n",
    "  plt.plot(x, train, label='Train')\n",
    "  plt.plot(x, test, label='Test')\n",
    "  plt.title(f'Accuracy vs {title}')\n",
    "  plt.legend()\n",
    "  plt.xlabel(title)\n",
    "  plt.ylabel('Accuracy')\n",
    "  plt.show()\n",
    "\n",
    "def plot_train_test_f1_values(train, test, x, title):\n",
    "  plt.figure()\n",
    "  plt.plot(x, train, label='Train')\n",
    "  plt.plot(x, test, label='Test')\n",
    "  plt.title(f'F1-score vs {title}')\n",
    "  plt.legend()\n",
    "  plt.xlabel(title)\n",
    "  plt.ylabel('F1-score')\n",
    "  plt.show()"
   ]
  },
  {
   "cell_type": "markdown",
   "metadata": {
    "id": "aaY1yxeLxD57"
   },
   "source": [
    "### **Running Model for Experiment 1: Unbalanced model predicting all 10 classes**"
   ]
  },
  {
   "cell_type": "code",
   "execution_count": 27,
   "metadata": {
    "colab": {
     "base_uri": "https://localhost:8080/"
    },
    "id": "wQjigQBjxDKu",
    "outputId": "8f81db65-b16d-4ecc-99d3-02006eeba995"
   },
   "outputs": [
    {
     "name": "stderr",
     "output_type": "stream",
     "text": [
      "100%|███████████████████████████████████████████████████████████████████████████████| 20/20 [2:31:02<00:00, 453.11s/it]\n"
     ]
    }
   ],
   "source": [
    "# Test min_sample_split\n",
    "train_acc, test_acc, train_f1, test_f1, values = SVM_tune_gamma(X,y)"
   ]
  },
  {
   "cell_type": "code",
   "execution_count": 28,
   "metadata": {
    "id": "ymYZE1ToktzF"
   },
   "outputs": [
    {
     "data": {
      "image/png": "[encoded data removed]",
      "text/plain": [
       "<Figure size 640x480 with 1 Axes>"
      ]
     },
     "metadata": {},
     "output_type": "display_data"
    }
   ],
   "source": [
    "# Plotting Accuracy against k\n",
    "plot_train_test_acc_values(train_acc, test_acc, values, 'Gamma')"
   ]
  },
  {
   "cell_type": "code",
   "execution_count": 29,
   "metadata": {
    "id": "9X8K22-ikwe-"
   },
   "outputs": [
    {
     "data": {
      "image/png": "[encoded data removed]",
      "text/plain": [
       "<Figure size 640x480 with 1 Axes>"
      ]
     },
     "metadata": {},
     "output_type": "display_data"
    }
   ],
   "source": [
    "# Plotting F1-score against k\n",
    "plot_train_test_f1_values(train_f1, test_f1, values, 'Gamma')"
   ]
  },
  {
   "cell_type": "code",
   "execution_count": 30,
   "metadata": {
    "id": "ws6sMVs7LI89"
   },
   "outputs": [
    {
     "data": {
      "text/plain": [
       "(0.9944293202226648, 75)"
      ]
     },
     "execution_count": 30,
     "metadata": {},
     "output_type": "execute_result"
    }
   ],
   "source": [
    "# Find best deg\n",
    "np.max(test_acc), values[np.argmax(test_acc)]"
   ]
  },
  {
   "cell_type": "code",
   "execution_count": 31,
   "metadata": {
    "id": "jFrUOAuh6RdK"
   },
   "outputs": [
    {
     "data": {
      "text/plain": [
       "(0.9648170705096106, 75)"
      ]
     },
     "execution_count": 31,
     "metadata": {},
     "output_type": "execute_result"
    }
   ],
   "source": [
    "# Find best deg\n",
    "np.max(test_f1), values[np.argmax(test_f1)]"
   ]
  },
  {
   "cell_type": "code",
   "execution_count": 32,
   "metadata": {
    "id": "zn3l7BBhLZzQ"
   },
   "outputs": [
    {
     "data": {
      "text/plain": [
       "(0.9944293202226648, 75)"
      ]
     },
     "execution_count": 32,
     "metadata": {},
     "output_type": "execute_result"
    }
   ],
   "source": [
    "# Find best deg\n",
    "np.max(test_acc), values[np.argmax(test_f1)]"
   ]
  },
  {
   "cell_type": "code",
   "execution_count": 33,
   "metadata": {
    "id": "pLa3gmU7pJz8"
   },
   "outputs": [
    {
     "data": {
      "text/plain": [
       "[0.9938523424484986,\n",
       " 0.994181463573199,\n",
       " 0.9941570842306285,\n",
       " 0.9938645321197839,\n",
       " 0.9939173540286864,\n",
       " 0.9936573077079354,\n",
       " 0.9933403762545202,\n",
       " 0.9935679167851775,\n",
       " 0.9936410548128887,\n",
       " 0.9940433139653001,\n",
       " 0.9940108081752062,\n",
       " 0.993921417252448,\n",
       " 0.9942139693632928,\n",
       " 0.9942708544959571,\n",
       " 0.9944293202226648,\n",
       " 0.9941448945593434,\n",
       " 0.9939254804762097,\n",
       " 0.9929746861159645,\n",
       " 0.9930112551298199,\n",
       " 0.9935679167851774]"
      ]
     },
     "execution_count": 33,
     "metadata": {},
     "output_type": "execute_result"
    }
   ],
   "source": [
    "test_acc"
   ]
  },
  {
   "cell_type": "code",
   "execution_count": 34,
   "metadata": {
    "id": "62cS3mA2pMGO"
   },
   "outputs": [
    {
     "data": {
      "text/plain": [
       "[0.958711712945656,\n",
       " 0.9578812811049149,\n",
       " 0.9567355911949702,\n",
       " 0.9568662272932761,\n",
       " 0.9548701230598718,\n",
       " 0.9535330573623622,\n",
       " 0.9508972614488554,\n",
       " 0.949120412216842,\n",
       " 0.9527452404685368,\n",
       " 0.9532795958623848,\n",
       " 0.9539721405678758,\n",
       " 0.9535712329751098,\n",
       " 0.9594534355079466,\n",
       " 0.9617518392646256,\n",
       " 0.9648170705096106,\n",
       " 0.9615383229081068,\n",
       " 0.9622637740897846,\n",
       " 0.9576749053269575,\n",
       " 0.9573429298250552,\n",
       " 0.9579053866407327]"
      ]
     },
     "execution_count": 34,
     "metadata": {},
     "output_type": "execute_result"
    }
   ],
   "source": [
    "test_f1"
   ]
  },
  {
   "cell_type": "code",
   "execution_count": 35,
   "metadata": {
    "id": "Hnu_lOizpNdW"
   },
   "outputs": [
    {
     "data": {
      "text/plain": [
       "array([  5,  10,  15,  20,  25,  30,  35,  40,  45,  50,  55,  60,  65,\n",
       "        70,  75,  80,  85,  90,  95, 100])"
      ]
     },
     "execution_count": 35,
     "metadata": {},
     "output_type": "execute_result"
    }
   ],
   "source": [
    "values"
   ]
  },
  {
   "cell_type": "code",
   "execution_count": null,
   "metadata": {
    "id": "6Sx69TAEzygu"
   },
   "outputs": [],
   "source": [
    "from sklearn.svm import SVC\n",
    "from sklearn.model_selection import train_test_split\n",
    "from sklearn.metrics import f1_score, accuracy_score\n",
    "from sklearn.feature_selection import SelectPercentile\n",
    "\n",
    "def FindPercentile(X, y):\n",
    "  max_range = 100\n",
    "  values = np.array(range(5,max_range+1, 5))\n",
    "  itr_values = tqdm(values)\n",
    "  train_acc = []\n",
    "  test_acc = []\n",
    "  train_f1 = []\n",
    "  test_f1 = []\n",
    "  # num_of_nodes = []\n",
    "  for i in itr_values:\n",
    "    train_acc_temp = []\n",
    "    test_acc_temp = []\n",
    "    train_f1_temp = []\n",
    "    test_f1_temp = []\n",
    "    X_new = SelectPercentile(percentile=i).fit_transform(X,y)\n",
    "    # num_of_nodes_temp = []\n",
    "    for j in range(10):\n",
    "      X_train, X_test, y_train, y_test = train_test_split(X_new, y, test_size=0.20, stratify=y)\n",
    "      clf = SVC(kernel='poly', degree=4)\n",
    "      clf.fit(X_train, y_train)\n",
    "      y_train_pred = clf.predict(X_train)\n",
    "      y_test_pred = clf.predict(X_test)\n",
    "      train_acc_temp.append(accuracy_score(y_train, y_train_pred))\n",
    "      test_acc_temp.append(accuracy_score(y_test, y_test_pred))\n",
    "      train_f1_temp.append(f1_score(y_train, y_train_pred, average='macro'))\n",
    "      test_f1_temp.append(f1_score(y_test, y_test_pred, average='macro'))\n",
    "      # num_of_nodes_temp.append(clf.tree_.node_count)\n",
    "    train_acc.append(np.mean(train_acc_temp))\n",
    "    test_acc.append(np.mean(test_acc_temp))\n",
    "    train_f1.append(np.mean(train_f1_temp))\n",
    "    test_f1.append(np.mean(test_f1_temp))\n",
    "    # num_of_nodes.append(np.mean(num_of_nodes_temp))\n",
    "  return train_acc, test_acc, train_f1, test_f1, values"
   ]
  },
  {
   "cell_type": "code",
   "execution_count": null,
   "metadata": {
    "id": "T6wgUghSz0fg"
   },
   "outputs": [],
   "source": [
    "import warnings\n",
    "\n",
    "# Ignore specific warnings\n",
    "warnings.filterwarnings(\"ignore\", message=\"Features .* are constant.\", category=UserWarning)\n",
    "warnings.filterwarnings(\"ignore\", message=\"invalid value encountered in divide\", category=RuntimeWarning)"
   ]
  },
  {
   "cell_type": "code",
   "execution_count": null,
   "metadata": {
    "colab": {
     "base_uri": "https://localhost:8080/"
    },
    "id": "C7VPtFg-0jRS",
    "outputId": "a423feb2-0d2e-4fff-b3e2-639a07433270"
   },
   "outputs": [
    {
     "metadata": {
      "tags": null
     },
     "name": "stderr",
     "output_type": "stream",
     "text": [
      " 10%|█         | 2/20 [25:50<3:48:26, 761.45s/it]"
     ]
    }
   ],
   "source": [
    "# Find best percentile\n",
    "train_acc, test_acc, train_f1, test_f1, values = FindPercentile(X,y)"
   ]
  },
  {
   "cell_type": "code",
   "execution_count": null,
   "metadata": {
    "id": "sCtxREBZ0qkv"
   },
   "outputs": [],
   "source": [
    "plt.bar(values, test_acc)"
   ]
  },
  {
   "cell_type": "code",
   "execution_count": null,
   "metadata": {
    "id": "zmtoerVr0uCo"
   },
   "outputs": [],
   "source": [
    "plt.bar(values, test_f1)"
   ]
  },
  {
   "cell_type": "code",
   "execution_count": null,
   "metadata": {
    "id": "bS82kujQ0uio"
   },
   "outputs": [],
   "source": [
    "print(f\"Max avg test_acc = {np.max(test_acc)} at the {values[np.argmax(test_acc)]}th percentile\")\n",
    "print(f\"Max avg test_f1 = {np.max(test_f1)} at the {values[np.argmax(test_f1)]}th percentile\")"
   ]
  },
  {
   "cell_type": "markdown",
   "metadata": {
    "id": "KOGH_ZOAX2WE"
   },
   "source": [
    "### **With Feature Selection**"
   ]
  },
  {
   "cell_type": "code",
   "execution_count": null,
   "metadata": {
    "colab": {
     "base_uri": "https://localhost:8080/"
    },
    "id": "diXthyQ5TXoo",
    "outputId": "d7954fd5-50cb-415e-800f-29bcb620f003"
   },
   "outputs": [
    {
     "name": "stderr",
     "output_type": "stream",
     "text": [
      "/usr/local/lib/python3.10/dist-packages/sklearn/feature_selection/_univariate_selection.py:112: UserWarning: Features [22 90] are constant.\n",
      "  warnings.warn(\"Features %s are constant.\" % constant_features_idx, UserWarning)\n",
      "/usr/local/lib/python3.10/dist-packages/sklearn/feature_selection/_univariate_selection.py:113: RuntimeWarning: invalid value encountered in divide\n",
      "  f = msb / msw\n"
     ]
    },
    {
     "name": "stdout",
     "output_type": "stream",
     "text": [
      "              precision    recall  f1-score   support\n",
      "\n",
      "           0     0.9709    0.9903    0.9805      1550\n",
      "           1     0.8966    0.9720    0.9327       107\n",
      "           2     1.0000    1.0000    1.0000     18932\n",
      "           3     1.0000    1.0000    1.0000       829\n",
      "           4     1.0000    1.0000    1.0000       400\n",
      "           5     1.0000    1.0000    1.0000       200\n",
      "           6     0.9960    0.9691    0.9824       518\n",
      "           7     1.0000    0.9950    0.9975       402\n",
      "           8     0.9893    0.9735    0.9814      1622\n",
      "           9     0.9623    1.0000    0.9808        51\n",
      "\n",
      "    accuracy                         0.9968     24611\n",
      "   macro avg     0.9815    0.9900    0.9855     24611\n",
      "weighted avg     0.9969    0.9968    0.9968     24611\n",
      "\n",
      "Macro avg ROC AUC: 0.9977544411541975\n"
     ]
    }
   ],
   "source": [
    "from sklearn.neighbors import KNeighborsClassifier\n",
    "from sklearn.model_selection import train_test_split\n",
    "from sklearn.metrics import classification_report, f1_score, accuracy_score, precision_score, recall_score, roc_auc_score\n",
    "from sklearn.feature_selection import SelectPercentile\n",
    "\n",
    "\n",
    "X_new = SelectPercentile(percentile=75).fit_transform(X,y)\n",
    "X_train, X_test, y_train, y_test = train_test_split(X_new, y, test_size=0.20, stratify=y)\n",
    "clf_optimal = KNeighborsClassifier(n_neighbors=3)\n",
    "clf_optimal.fit(X_train, y_train)\n",
    "y_train_pred = clf_optimal.predict(X_train)\n",
    "y_test_pred = clf_optimal.predict(X_test)\n",
    "report = classification_report(y_test, y_test_pred, digits=4)\n",
    "print(report)\n",
    "y_test_pred_proba = clf_optimal.predict_proba(X_test)\n",
    "auc = roc_auc_score(y_test, y_test_pred_proba, multi_class='ovr')\n",
    "print(f\"Macro avg ROC AUC: {auc}\")"
   ]
  },
  {
   "cell_type": "code",
   "execution_count": null,
   "metadata": {
    "colab": {
     "base_uri": "https://localhost:8080/",
     "height": 676
    },
    "id": "nekwubR0Ved3",
    "outputId": "0bd36b92-5e60-46b0-fdb3-43b2f90d32f9"
   },
   "outputs": [
    {
     "data": {
      "image/png": "[encoded data removed]",
      "text/plain": [
       "<Figure size 1000x800 with 2 Axes>"
      ]
     },
     "metadata": {},
     "output_type": "display_data"
    }
   ],
   "source": [
    "from sklearn.metrics import confusion_matrix\n",
    "from seaborn import heatmap\n",
    "\n",
    "cm = confusion_matrix(y_test, y_test_pred)\n",
    "plt.figure(figsize=(10,8))\n",
    "heatmap(cm, cmap='Blues', annot=True)\n",
    "plt.show()"
   ]
  },
  {
   "cell_type": "code",
   "execution_count": null,
   "metadata": {
    "colab": {
     "base_uri": "https://localhost:8080/"
    },
    "id": "vk--j580Vv8e",
    "outputId": "879cd229-169d-46c5-e164-4cbee5cfb273"
   },
   "outputs": [
    {
     "data": {
      "text/plain": [
       "array(['ARP_poisioning', 'DDOS_Slowloris', 'DOS_SYN_Hping',\n",
       "       'MQTT_Publish', 'NMAP_OS_DETECTION', 'NMAP_TCP_scan',\n",
       "       'NMAP_UDP_SCAN', 'NMAP_XMAS_TREE_SCAN', 'Thing_Speak',\n",
       "       'Wipro_bulb'], dtype=object)"
      ]
     },
     "execution_count": 32,
     "metadata": {},
     "output_type": "execute_result"
    }
   ],
   "source": [
    "labelenc.classes_"
   ]
  },
  {
   "cell_type": "code",
   "execution_count": null,
   "metadata": {
    "colab": {
     "base_uri": "https://localhost:8080/",
     "height": 837
    },
    "id": "_5ShYNJIV-sO",
    "outputId": "ee73764d-85c5-42a5-a49a-ef4e7c325e57"
   },
   "outputs": [
    {
     "data": {
      "image/png": "[encoded data removed]",
      "text/plain": [
       "<Figure size 1000x800 with 2 Axes>"
      ]
     },
     "metadata": {},
     "output_type": "display_data"
    }
   ],
   "source": [
    "df_cm = pd.DataFrame(cm)\n",
    "df_cm.columns = labelenc.classes_\n",
    "df_cm = df_cm.set_index(labelenc.classes_)\n",
    "plt.figure(figsize=(10,8))\n",
    "heatmap(df_cm, cmap='Blues', annot=True)\n",
    "# plt.title('Confusion Matrix for unbalanced data')\n",
    "plt.show()"
   ]
  },
  {
   "cell_type": "markdown",
   "metadata": {
    "id": "TtrKXNqDcP4F"
   },
   "source": [
    "### **Without Feature Selection**"
   ]
  },
  {
   "cell_type": "code",
   "execution_count": null,
   "metadata": {
    "colab": {
     "base_uri": "https://localhost:8080/"
    },
    "id": "hAMfmmAccP4Q",
    "outputId": "3b544b96-5e4f-47b3-fa90-81fb9459f056"
   },
   "outputs": [
    {
     "name": "stdout",
     "output_type": "stream",
     "text": [
      "              precision    recall  f1-score   support\n",
      "\n",
      "           0     0.9741    0.9929    0.9834      1550\n",
      "           1     0.9231    0.8972    0.9100       107\n",
      "           2     1.0000    1.0000    1.0000     18932\n",
      "           3     1.0000    0.9976    0.9988       829\n",
      "           4     1.0000    1.0000    1.0000       400\n",
      "           5     0.9950    0.9900    0.9925       200\n",
      "           6     0.9824    0.9710    0.9767       518\n",
      "           7     1.0000    0.9975    0.9988       402\n",
      "           8     0.9888    0.9797    0.9842      1622\n",
      "           9     0.9796    0.9412    0.9600        51\n",
      "\n",
      "    accuracy                         0.9968     24611\n",
      "   macro avg     0.9843    0.9767    0.9804     24611\n",
      "weighted avg     0.9968    0.9968    0.9968     24611\n",
      "\n",
      "Macro avg ROC AUC: 0.9935688673382576\n"
     ]
    }
   ],
   "source": [
    "from sklearn.neighbors import KNeighborsClassifier\n",
    "from sklearn.model_selection import train_test_split\n",
    "from sklearn.metrics import classification_report, f1_score, accuracy_score, precision_score, recall_score, roc_auc_score\n",
    "from sklearn.feature_selection import SelectPercentile\n",
    "\n",
    "\n",
    "# X_new = SelectPercentile(percentile=75).fit_transform(X,y)\n",
    "X_train, X_test, y_train, y_test = train_test_split(X, y, test_size=0.20, stratify=y)\n",
    "clf_optimal = KNeighborsClassifier(n_neighbors=3)\n",
    "clf_optimal.fit(X_train, y_train)\n",
    "y_train_pred = clf_optimal.predict(X_train)\n",
    "y_test_pred = clf_optimal.predict(X_test)\n",
    "report = classification_report(y_test, y_test_pred, digits=4)\n",
    "print(report)\n",
    "y_test_pred_proba = clf_optimal.predict_proba(X_test)\n",
    "auc = roc_auc_score(y_test, y_test_pred_proba, multi_class='ovr')\n",
    "print(f\"Macro avg ROC AUC: {auc}\")"
   ]
  },
  {
   "cell_type": "code",
   "execution_count": null,
   "metadata": {
    "colab": {
     "base_uri": "https://localhost:8080/",
     "height": 676
    },
    "id": "rmS-WtKJcP4R",
    "outputId": "686a4fd3-f382-467d-fef4-8cf292219864"
   },
   "outputs": [
    {
     "data": {
      "image/png": "[encoded data removed]",
      "text/plain": [
       "<Figure size 1000x800 with 2 Axes>"
      ]
     },
     "metadata": {},
     "output_type": "display_data"
    }
   ],
   "source": [
    "from sklearn.metrics import confusion_matrix\n",
    "from seaborn import heatmap\n",
    "\n",
    "cm = confusion_matrix(y_test, y_test_pred)\n",
    "plt.figure(figsize=(10,8))\n",
    "heatmap(cm, cmap='Blues', annot=True)\n",
    "plt.show()"
   ]
  },
  {
   "cell_type": "code",
   "execution_count": null,
   "metadata": {
    "colab": {
     "base_uri": "https://localhost:8080/"
    },
    "id": "OwjrVe53cP4S",
    "outputId": "6c326d90-f2db-4ea1-d98a-955ff22f6d11"
   },
   "outputs": [
    {
     "data": {
      "text/plain": [
       "array(['ARP_poisioning', 'DDOS_Slowloris', 'DOS_SYN_Hping',\n",
       "       'MQTT_Publish', 'NMAP_OS_DETECTION', 'NMAP_TCP_scan',\n",
       "       'NMAP_UDP_SCAN', 'NMAP_XMAS_TREE_SCAN', 'Thing_Speak',\n",
       "       'Wipro_bulb'], dtype=object)"
      ]
     },
     "execution_count": 36,
     "metadata": {},
     "output_type": "execute_result"
    }
   ],
   "source": [
    "labelenc.classes_"
   ]
  },
  {
   "cell_type": "code",
   "execution_count": null,
   "metadata": {
    "colab": {
     "base_uri": "https://localhost:8080/",
     "height": 837
    },
    "id": "cFuvWx19cP4S",
    "outputId": "a6f5aafc-eaf5-4bc7-f4bf-13f1eddbe18c"
   },
   "outputs": [
    {
     "data": {
      "image/png": "[encoded data removed]",
      "text/plain": [
       "<Figure size 1000x800 with 2 Axes>"
      ]
     },
     "metadata": {},
     "output_type": "display_data"
    }
   ],
   "source": [
    "df_cm = pd.DataFrame(cm)\n",
    "df_cm.columns = labelenc.classes_\n",
    "df_cm = df_cm.set_index(labelenc.classes_)\n",
    "plt.figure(figsize=(10,8))\n",
    "heatmap(df_cm, cmap='Blues', annot=True)\n",
    "# plt.title('Confusion Matrix for unbalanced data')\n",
    "plt.show()"
   ]
  }
 ],
 "metadata": {
  "colab": {
   "collapsed_sections": [
    "DKAEoPaYbmgQ",
    "udPOZwAab6m0",
    "kovMsHtqdWzv",
    "8T04BAubi3Mn",
    "xsyqzX97kwTH",
    "YU13rCe4lPKg",
    "KOGH_ZOAX2WE"
   ],
   "provenance": []
  },
  "kernelspec": {
   "display_name": "Python 3 (ipykernel)",
   "language": "python",
   "name": "python3"
  },
  "language_info": {
   "codemirror_mode": {
    "name": "ipython",
    "version": 3
   },
   "file_extension": ".py",
   "mimetype": "text/x-python",
   "name": "python",
   "nbconvert_exporter": "python",
   "pygments_lexer": "ipython3",
   "version": "3.11.5"
  }
 },
 "nbformat": 4,
 "nbformat_minor": 4
}
